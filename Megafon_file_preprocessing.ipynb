{
 "cells": [
  {
   "cell_type": "code",
   "execution_count": 121,
   "outputs": [],
   "source": [
    "import pandas as pd\n",
    "import numpy as np\n",
    "import matplotlib.pyplot as plt\n",
    "from sklearn.metrics import classification_report\n",
    "from sklearn.preprocessing import StandardScaler\n",
    "from sklearn.decomposition import PCA"
   ],
   "metadata": {
    "collapsed": false,
    "pycharm": {
     "name": "#%%\n"
    }
   }
  },
  {
   "cell_type": "code",
   "execution_count": 75,
   "outputs": [
    {
     "name": "stdout",
     "output_type": "stream",
     "text": [
      "CPU times: user 1min 34s, sys: 12.4 s, total: 1min 46s\n",
      "Wall time: 2min 20s\n"
     ]
    },
    {
     "data": {
      "text/plain": "   Unnamed: 0       id    buy_time          0           1           2  \\\n0           0  2013026  1531688400  18.910029   46.980888    4.969214   \n1           1  2014722  1539550800  36.690029  152.400888  448.069214   \n2           2  2015199  1545598800 -67.019971  157.050888  -63.180786   \n3           3  2021765  1534107600   7.010029  150.200888   -6.930786   \n4           4  2027465  1533502800 -90.439971  134.220888 -104.380786   \n\n            3           4          5         6  ...          243          244  \\\n0   -1.386798    3.791754  -14.01179 -16.08618  ...  -977.373846  -613.770792   \n1  563.833202  463.841754  568.99821 -16.08618  ...  -891.373846  -544.770792   \n2  178.103202  -68.598246  156.99821   3.51382  ...  -977.373846  -613.770792   \n3  216.213202   76.621754  351.84821 -16.08618  ...  -973.373846  -613.770792   \n4  153.643202 -109.798246  132.53821 -16.08618  ...  1643.626154  2007.229208   \n\n          245        246           247        248       249        250  \\\n0  -25.996269 -37.630448   -301.747724 -25.832889 -0.694428 -12.175933   \n1  -20.996269  48.369552     80.252276 -13.832889 -0.694428  -1.175933   \n2  -12.996269 -37.630448  10829.252276 -25.832889 -0.694428 -12.175933   \n3  -23.996269 -37.630448   -205.747724 -24.832889 -0.694428 -11.175933   \n4  206.003731 -21.630448   6667.252276  92.167111 -0.694428  49.824067   \n\n        251  252  \n0  -0.45614  0.0  \n1  -0.45614  0.0  \n2  -0.45614  0.0  \n3  -0.45614  1.0  \n4  47.54386  0.0  \n\n[5 rows x 256 columns]",
      "text/html": "<div>\n<style scoped>\n    .dataframe tbody tr th:only-of-type {\n        vertical-align: middle;\n    }\n\n    .dataframe tbody tr th {\n        vertical-align: top;\n    }\n\n    .dataframe thead th {\n        text-align: right;\n    }\n</style>\n<table border=\"1\" class=\"dataframe\">\n  <thead>\n    <tr style=\"text-align: right;\">\n      <th></th>\n      <th>Unnamed: 0</th>\n      <th>id</th>\n      <th>buy_time</th>\n      <th>0</th>\n      <th>1</th>\n      <th>2</th>\n      <th>3</th>\n      <th>4</th>\n      <th>5</th>\n      <th>6</th>\n      <th>...</th>\n      <th>243</th>\n      <th>244</th>\n      <th>245</th>\n      <th>246</th>\n      <th>247</th>\n      <th>248</th>\n      <th>249</th>\n      <th>250</th>\n      <th>251</th>\n      <th>252</th>\n    </tr>\n  </thead>\n  <tbody>\n    <tr>\n      <th>0</th>\n      <td>0</td>\n      <td>2013026</td>\n      <td>1531688400</td>\n      <td>18.910029</td>\n      <td>46.980888</td>\n      <td>4.969214</td>\n      <td>-1.386798</td>\n      <td>3.791754</td>\n      <td>-14.01179</td>\n      <td>-16.08618</td>\n      <td>...</td>\n      <td>-977.373846</td>\n      <td>-613.770792</td>\n      <td>-25.996269</td>\n      <td>-37.630448</td>\n      <td>-301.747724</td>\n      <td>-25.832889</td>\n      <td>-0.694428</td>\n      <td>-12.175933</td>\n      <td>-0.45614</td>\n      <td>0.0</td>\n    </tr>\n    <tr>\n      <th>1</th>\n      <td>1</td>\n      <td>2014722</td>\n      <td>1539550800</td>\n      <td>36.690029</td>\n      <td>152.400888</td>\n      <td>448.069214</td>\n      <td>563.833202</td>\n      <td>463.841754</td>\n      <td>568.99821</td>\n      <td>-16.08618</td>\n      <td>...</td>\n      <td>-891.373846</td>\n      <td>-544.770792</td>\n      <td>-20.996269</td>\n      <td>48.369552</td>\n      <td>80.252276</td>\n      <td>-13.832889</td>\n      <td>-0.694428</td>\n      <td>-1.175933</td>\n      <td>-0.45614</td>\n      <td>0.0</td>\n    </tr>\n    <tr>\n      <th>2</th>\n      <td>2</td>\n      <td>2015199</td>\n      <td>1545598800</td>\n      <td>-67.019971</td>\n      <td>157.050888</td>\n      <td>-63.180786</td>\n      <td>178.103202</td>\n      <td>-68.598246</td>\n      <td>156.99821</td>\n      <td>3.51382</td>\n      <td>...</td>\n      <td>-977.373846</td>\n      <td>-613.770792</td>\n      <td>-12.996269</td>\n      <td>-37.630448</td>\n      <td>10829.252276</td>\n      <td>-25.832889</td>\n      <td>-0.694428</td>\n      <td>-12.175933</td>\n      <td>-0.45614</td>\n      <td>0.0</td>\n    </tr>\n    <tr>\n      <th>3</th>\n      <td>3</td>\n      <td>2021765</td>\n      <td>1534107600</td>\n      <td>7.010029</td>\n      <td>150.200888</td>\n      <td>-6.930786</td>\n      <td>216.213202</td>\n      <td>76.621754</td>\n      <td>351.84821</td>\n      <td>-16.08618</td>\n      <td>...</td>\n      <td>-973.373846</td>\n      <td>-613.770792</td>\n      <td>-23.996269</td>\n      <td>-37.630448</td>\n      <td>-205.747724</td>\n      <td>-24.832889</td>\n      <td>-0.694428</td>\n      <td>-11.175933</td>\n      <td>-0.45614</td>\n      <td>1.0</td>\n    </tr>\n    <tr>\n      <th>4</th>\n      <td>4</td>\n      <td>2027465</td>\n      <td>1533502800</td>\n      <td>-90.439971</td>\n      <td>134.220888</td>\n      <td>-104.380786</td>\n      <td>153.643202</td>\n      <td>-109.798246</td>\n      <td>132.53821</td>\n      <td>-16.08618</td>\n      <td>...</td>\n      <td>1643.626154</td>\n      <td>2007.229208</td>\n      <td>206.003731</td>\n      <td>-21.630448</td>\n      <td>6667.252276</td>\n      <td>92.167111</td>\n      <td>-0.694428</td>\n      <td>49.824067</td>\n      <td>47.54386</td>\n      <td>0.0</td>\n    </tr>\n  </tbody>\n</table>\n<p>5 rows × 256 columns</p>\n</div>"
     },
     "execution_count": 75,
     "metadata": {},
     "output_type": "execute_result"
    }
   ],
   "source": [
    "%%time\n",
    "features = pd.read_csv('features.csv', sep='\\t')\n",
    "train = pd.read_csv('data_train.csv')\n",
    "test = pd.read_csv('data_test.csv')\n",
    "features.head()"
   ],
   "metadata": {
    "collapsed": false,
    "pycharm": {
     "name": "#%%\n"
    }
   }
  },
  {
   "cell_type": "code",
   "execution_count": 77,
   "outputs": [],
   "source": [
    "def reduce_mem_usage(df):\n",
    "    \"\"\" iterate through all the columns of a dataframe and modify the data type\n",
    "        to reduce memory usage.\n",
    "    \"\"\"\n",
    "    start_mem = df.memory_usage().sum() / 1024**2\n",
    "    print('Memory usage of dataframe is {:.2f} MB'.format(start_mem))\n",
    "\n",
    "    for col in df.columns:\n",
    "        col_type = df[col].dtype\n",
    "\n",
    "        if col_type != object:\n",
    "            c_min = df[col].min()\n",
    "            c_max = df[col].max()\n",
    "            if str(col_type)[:3] == 'int':\n",
    "                if c_min > np.iinfo(np.int8).min and c_max < np.iinfo(np.int8).max:\n",
    "                    df[col] = df[col].astype(np.int8)\n",
    "                elif c_min > np.iinfo(np.int16).min and c_max < np.iinfo(np.int16).max:\n",
    "                    df[col] = df[col].astype(np.int16)\n",
    "                elif c_min > np.iinfo(np.int32).min and c_max < np.iinfo(np.int32).max:\n",
    "                    df[col] = df[col].astype(np.int32)\n",
    "                elif c_min > np.iinfo(np.int64).min and c_max < np.iinfo(np.int64).max:\n",
    "                    df[col] = df[col].astype(np.int64)\n",
    "            else:\n",
    "                if c_min > np.finfo(np.float32).min and c_max < np.finfo(np.float32).max:\n",
    "                    df[col] = df[col].astype(np.float32)\n",
    "                else:\n",
    "                    df[col] = df[col].astype(np.float64)\n",
    "        else:\n",
    "            df[col] = df[col].astype('category')\n",
    "\n",
    "    end_mem = df.memory_usage().sum() / 1024**2\n",
    "    print('Memory usage after optimization is: {:.2f} MB'.format(end_mem))\n",
    "    print('Decreased by {:.1f}%'.format(100 * (start_mem - end_mem) / start_mem))\n",
    "\n",
    "    return df"
   ],
   "metadata": {
    "collapsed": false,
    "pycharm": {
     "name": "#%%\n"
    }
   }
  },
  {
   "cell_type": "code",
   "execution_count": 66,
   "outputs": [
    {
     "name": "stdout",
     "output_type": "stream",
     "text": [
      "<class 'pandas.core.frame.DataFrame'>\n",
      "Int64Index: 831653 entries, 0 to 831652\n",
      "Columns: 259 entries, Unnamed: 0_x to 252\n",
      "dtypes: float64(256), int64(3)\n",
      "memory usage: 1.6 GB\n",
      "CPU times: user 15.3 s, sys: 24.9 s, total: 40.2 s\n",
      "Wall time: 2min 23s\n"
     ]
    }
   ],
   "source": [
    "%%time\n",
    "\n",
    "# train['buy_time'] = pd.to_datetime(train['buy_time'], unit='s')\n",
    "# test['buy_time'] = pd.to_datetime(test['buy_time'], unit='s')\n",
    "# features['buy_time'] = pd.to_datetime(features['buy_time'], unit='s')\n",
    "#\n",
    "# train_merged = pd.merge_asof(train.sort_values('buy_time'),\n",
    "#                        features.sort_values('buy_time'),\n",
    "#                        by='id',\n",
    "#                        on='buy_time',\n",
    "#                        direction='backward')\n",
    "#\n",
    "# test_merged = pd.merge_asof(test.sort_values('buy_time'),\n",
    "#                              features.sort_values('buy_time'),\n",
    "#                              by='id',\n",
    "#                              on='buy_time',\n",
    "#                              direction='backward')\n",
    "\n",
    "# train_merged = reduce_mem_usage(train_merged)\n",
    "# test_merged = reduce_mem_usage(test_merged)#\n",
    "\n",
    "# train_merged.info()\n",
    "# test_merged.info()\n",
    "# test_merged.isnull().sum()"
   ],
   "metadata": {
    "collapsed": false,
    "pycharm": {
     "name": "#%%\n"
    }
   }
  },
  {
   "cell_type": "code",
   "execution_count": 78,
   "outputs": [
    {
     "data": {
      "text/plain": "Unnamed: 0_x    0\nid              0\nvas_id          0\nbuy_time        0\ntarget          0\n               ..\n248             0\n249             0\n250             0\n251             0\n252             0\nLength: 259, dtype: int64"
     },
     "execution_count": 78,
     "metadata": {},
     "output_type": "execute_result"
    }
   ],
   "source": [
    "train_merged_nearest = pd.merge_asof(train.sort_values('buy_time'),\n",
    "                             features.sort_values('buy_time'),\n",
    "                             by='id',\n",
    "                             on='buy_time',\n",
    "                             direction='nearest')\n",
    "\n",
    "test_merged_nearest  = pd.merge_asof(test.sort_values('buy_time'),\n",
    "                            features.sort_values('buy_time'),\n",
    "                            by='id',\n",
    "                            on='buy_time',\n",
    "                            direction='nearest')\n",
    "\n",
    "train_merged_nearest.isnull().sum()"
   ],
   "metadata": {
    "collapsed": false,
    "pycharm": {
     "name": "#%%\n"
    }
   }
  },
  {
   "cell_type": "code",
   "execution_count": 79,
   "outputs": [
    {
     "data": {
      "text/plain": "        id  vas_id    buy_time           0           1           2  \\\n0  2905850     5.0  1546808400  326.930029  227.410888  312.989214   \n1    31619     2.0  1546808400  -96.799971  100.290888  -62.040786   \n\n            3           4          5         6  ...         243         244  \\\n0  200.223202  307.571754  179.11821 -16.08618  ... -464.373846 -104.770792   \n1  250.953202  -67.458246  229.84821 -16.08618  ... -977.373846 -613.770792   \n\n         245        246         247        248       249        250      251  \\\n0 -25.996269 -18.630448 -209.747724 -15.832889 -0.694428  -2.175933 -0.45614   \n1 -25.996269 -37.630448 -306.747724 -25.832889 -0.694428 -12.175933 -0.45614   \n\n   252  \n0  0.0  \n1  0.0  \n\n[2 rows x 256 columns]",
      "text/html": "<div>\n<style scoped>\n    .dataframe tbody tr th:only-of-type {\n        vertical-align: middle;\n    }\n\n    .dataframe tbody tr th {\n        vertical-align: top;\n    }\n\n    .dataframe thead th {\n        text-align: right;\n    }\n</style>\n<table border=\"1\" class=\"dataframe\">\n  <thead>\n    <tr style=\"text-align: right;\">\n      <th></th>\n      <th>id</th>\n      <th>vas_id</th>\n      <th>buy_time</th>\n      <th>0</th>\n      <th>1</th>\n      <th>2</th>\n      <th>3</th>\n      <th>4</th>\n      <th>5</th>\n      <th>6</th>\n      <th>...</th>\n      <th>243</th>\n      <th>244</th>\n      <th>245</th>\n      <th>246</th>\n      <th>247</th>\n      <th>248</th>\n      <th>249</th>\n      <th>250</th>\n      <th>251</th>\n      <th>252</th>\n    </tr>\n  </thead>\n  <tbody>\n    <tr>\n      <th>0</th>\n      <td>2905850</td>\n      <td>5.0</td>\n      <td>1546808400</td>\n      <td>326.930029</td>\n      <td>227.410888</td>\n      <td>312.989214</td>\n      <td>200.223202</td>\n      <td>307.571754</td>\n      <td>179.11821</td>\n      <td>-16.08618</td>\n      <td>...</td>\n      <td>-464.373846</td>\n      <td>-104.770792</td>\n      <td>-25.996269</td>\n      <td>-18.630448</td>\n      <td>-209.747724</td>\n      <td>-15.832889</td>\n      <td>-0.694428</td>\n      <td>-2.175933</td>\n      <td>-0.45614</td>\n      <td>0.0</td>\n    </tr>\n    <tr>\n      <th>1</th>\n      <td>31619</td>\n      <td>2.0</td>\n      <td>1546808400</td>\n      <td>-96.799971</td>\n      <td>100.290888</td>\n      <td>-62.040786</td>\n      <td>250.953202</td>\n      <td>-67.458246</td>\n      <td>229.84821</td>\n      <td>-16.08618</td>\n      <td>...</td>\n      <td>-977.373846</td>\n      <td>-613.770792</td>\n      <td>-25.996269</td>\n      <td>-37.630448</td>\n      <td>-306.747724</td>\n      <td>-25.832889</td>\n      <td>-0.694428</td>\n      <td>-12.175933</td>\n      <td>-0.45614</td>\n      <td>0.0</td>\n    </tr>\n  </tbody>\n</table>\n<p>2 rows × 256 columns</p>\n</div>"
     },
     "execution_count": 79,
     "metadata": {},
     "output_type": "execute_result"
    }
   ],
   "source": [
    "train_merged_nearest.drop(columns=['Unnamed: 0_x', 'Unnamed: 0_y'], inplace=True)\n",
    "test_merged_nearest.drop(columns=['Unnamed: 0_x', 'Unnamed: 0_y'], inplace=True)\n",
    "test_merged_nearest.head(2)"
   ],
   "metadata": {
    "collapsed": false,
    "pycharm": {
     "name": "#%%\n"
    }
   }
  },
  {
   "cell_type": "code",
   "execution_count": 80,
   "outputs": [
    {
     "name": "stdout",
     "output_type": "stream",
     "text": [
      "Memory usage of dataframe is 1637.01 MB\n",
      "Memory usage after optimization is: 821.68 MB\n",
      "Decreased by 49.8%\n",
      "Memory usage of dataframe is 139.67 MB\n",
      "Memory usage after optimization is: 70.10 MB\n",
      "Decreased by 49.8%\n"
     ]
    }
   ],
   "source": [
    "train_merged_nearest = reduce_mem_usage(train_merged_nearest)\n",
    "test_merged_nearest = reduce_mem_usage(test_merged_nearest)"
   ],
   "metadata": {
    "collapsed": false,
    "pycharm": {
     "name": "#%%\n"
    }
   }
  },
  {
   "cell_type": "markdown",
   "source": [
    "### Определение типов признаков\n",
    "\n",
    "Для того, чтобы обработать признаки, нужно определить их типы."
   ],
   "metadata": {
    "collapsed": false,
    "pycharm": {
     "name": "#%% md\n"
    }
   }
  },
  {
   "cell_type": "code",
   "execution_count": 81,
   "outputs": [
    {
     "data": {
      "text/plain": "<Figure size 1008x576 with 1 Axes>",
      "image/png": "[encoded data removed]"
     },
     "metadata": {
      "needs_background": "light"
     },
     "output_type": "display_data"
    }
   ],
   "source": [
    "X_nunique = train_merged_nearest.apply(lambda x: x.nunique(dropna=False))\n",
    "\n",
    "plt.title(\"Распределение уникальных значений признаков\");\n",
    "X_nunique.hist(bins=100, figsize=(14, 8));"
   ],
   "metadata": {
    "collapsed": false,
    "pycharm": {
     "name": "#%%\n"
    }
   }
  },
  {
   "cell_type": "code",
   "execution_count": 101,
   "outputs": [
    {
     "data": {
      "text/plain": "(253,\n {'0',\n  '1',\n  '10',\n  '100',\n  '101',\n  '102',\n  '103',\n  '104',\n  '105',\n  '106',\n  '107',\n  '108',\n  '109',\n  '11',\n  '110',\n  '111',\n  '112',\n  '113',\n  '114',\n  '115',\n  '116',\n  '117',\n  '118',\n  '119',\n  '12',\n  '120',\n  '121',\n  '122',\n  '123',\n  '124',\n  '125',\n  '126',\n  '127',\n  '128',\n  '129',\n  '13',\n  '130',\n  '131',\n  '132',\n  '133',\n  '134',\n  '135',\n  '136',\n  '137',\n  '138',\n  '139',\n  '14',\n  '140',\n  '141',\n  '142',\n  '143',\n  '144',\n  '145',\n  '146',\n  '147',\n  '148',\n  '149',\n  '15',\n  '150',\n  '151',\n  '152',\n  '153',\n  '154',\n  '155',\n  '156',\n  '157',\n  '158',\n  '159',\n  '16',\n  '160',\n  '161',\n  '162',\n  '163',\n  '164',\n  '165',\n  '166',\n  '167',\n  '168',\n  '169',\n  '17',\n  '170',\n  '171',\n  '172',\n  '173',\n  '174',\n  '175',\n  '176',\n  '177',\n  '178',\n  '179',\n  '18',\n  '180',\n  '181',\n  '182',\n  '183',\n  '184',\n  '185',\n  '186',\n  '187',\n  '188',\n  '189',\n  '19',\n  '190',\n  '191',\n  '192',\n  '193',\n  '194',\n  '195',\n  '196',\n  '197',\n  '198',\n  '199',\n  '2',\n  '20',\n  '200',\n  '201',\n  '202',\n  '203',\n  '204',\n  '205',\n  '206',\n  '207',\n  '208',\n  '209',\n  '21',\n  '210',\n  '211',\n  '212',\n  '213',\n  '214',\n  '215',\n  '216',\n  '217',\n  '218',\n  '219',\n  '22',\n  '220',\n  '221',\n  '222',\n  '223',\n  '224',\n  '225',\n  '226',\n  '227',\n  '228',\n  '229',\n  '23',\n  '230',\n  '231',\n  '232',\n  '233',\n  '234',\n  '235',\n  '236',\n  '237',\n  '238',\n  '239',\n  '24',\n  '240',\n  '241',\n  '242',\n  '243',\n  '244',\n  '245',\n  '246',\n  '247',\n  '248',\n  '249',\n  '25',\n  '250',\n  '251',\n  '252',\n  '26',\n  '27',\n  '28',\n  '29',\n  '3',\n  '30',\n  '31',\n  '32',\n  '33',\n  '34',\n  '35',\n  '36',\n  '37',\n  '38',\n  '39',\n  '4',\n  '40',\n  '41',\n  '42',\n  '43',\n  '44',\n  '45',\n  '46',\n  '47',\n  '48',\n  '49',\n  '5',\n  '50',\n  '51',\n  '52',\n  '53',\n  '54',\n  '55',\n  '56',\n  '57',\n  '58',\n  '59',\n  '6',\n  '60',\n  '61',\n  '62',\n  '63',\n  '64',\n  '65',\n  '66',\n  '67',\n  '68',\n  '69',\n  '7',\n  '70',\n  '71',\n  '72',\n  '73',\n  '74',\n  '75',\n  '76',\n  '77',\n  '78',\n  '79',\n  '8',\n  '80',\n  '81',\n  '82',\n  '83',\n  '84',\n  '85',\n  '86',\n  '87',\n  '88',\n  '89',\n  '9',\n  '90',\n  '91',\n  '92',\n  '93',\n  '94',\n  '95',\n  '96',\n  '97',\n  '98',\n  '99'})"
     },
     "execution_count": 101,
     "metadata": {},
     "output_type": "execute_result"
    }
   ],
   "source": [
    "# всего призков (удалим из них buy_time, id, target, vas_id)\n",
    "all = set(X_nunique.index.tolist()[4:])\n",
    "len(all), all"
   ],
   "metadata": {
    "collapsed": false,
    "pycharm": {
     "name": "#%%\n"
    }
   }
  },
  {
   "cell_type": "code",
   "execution_count": 102,
   "outputs": [
    {
     "data": {
      "text/plain": "5"
     },
     "execution_count": 102,
     "metadata": {},
     "output_type": "execute_result"
    }
   ],
   "source": [
    "#Константные признаки (принимают только одно значение - их можно удалить)\n",
    "const = set(X_nunique[X_nunique == 1].index.tolist())\n",
    "len(const)"
   ],
   "metadata": {
    "collapsed": false,
    "pycharm": {
     "name": "#%%\n"
    }
   }
  },
  {
   "cell_type": "code",
   "execution_count": 103,
   "outputs": [
    {
     "data": {
      "text/plain": "247"
     },
     "execution_count": 103,
     "metadata": {},
     "output_type": "execute_result"
    }
   ],
   "source": [
    "# Числовые признаки\n",
    "numeric = (train_merged_nearest.fillna(0).astype(int).sum() - train_merged_nearest.fillna(0).sum()).abs()\n",
    "numeric = set(numeric[numeric > 0].index.tolist())\n",
    "len(numeric)"
   ],
   "metadata": {
    "collapsed": false,
    "pycharm": {
     "name": "#%%\n"
    }
   }
  },
  {
   "cell_type": "code",
   "execution_count": 104,
   "outputs": [
    {
     "data": {
      "text/plain": "(1, {'252'})"
     },
     "execution_count": 104,
     "metadata": {},
     "output_type": "execute_result"
    }
   ],
   "source": [
    "other = all - (numeric | const)\n",
    "len(other), other,"
   ],
   "metadata": {
    "collapsed": false,
    "pycharm": {
     "name": "#%%\n"
    }
   }
  },
  {
   "cell_type": "code",
   "execution_count": 105,
   "outputs": [
    {
     "data": {
      "text/plain": "0"
     },
     "execution_count": 105,
     "metadata": {},
     "output_type": "execute_result"
    }
   ],
   "source": [
    "# Бинарные признаки\n",
    "binary = set(train_merged_nearest.loc[:, other].columns[(\n",
    "        (train_merged_nearest.loc[:, other].max() == 1) &\n",
    "        (train_merged_nearest.loc[:, other].min() == 0) &\n",
    "        (train_merged_nearest.loc[:, other].isnull().sum() == 0))])\n",
    "len(binary)"
   ],
   "metadata": {
    "collapsed": false,
    "pycharm": {
     "name": "#%%\n"
    }
   }
  },
  {
   "cell_type": "code",
   "execution_count": 111,
   "outputs": [
    {
     "data": {
      "text/plain": "1"
     },
     "execution_count": 111,
     "metadata": {},
     "output_type": "execute_result"
    }
   ],
   "source": [
    "# Категориальные признаки\n",
    "categorical = set(X_nunique.loc[other][X_nunique.loc[other] <= 30].index.tolist())\n",
    "numeric_extra = categorical\n",
    "\n",
    "len(categorical)"
   ],
   "metadata": {
    "collapsed": false,
    "pycharm": {
     "name": "#%%\n"
    }
   }
  },
  {
   "cell_type": "code",
   "execution_count": 115,
   "outputs": [],
   "source": [
    "other = other - categorical\n",
    "numeric = numeric | other"
   ],
   "metadata": {
    "collapsed": false,
    "pycharm": {
     "name": "#%%\n"
    }
   }
  },
  {
   "cell_type": "code",
   "execution_count": 118,
   "outputs": [
    {
     "name": "stdout",
     "output_type": "stream",
     "text": [
      "Всего признаков (из них было удалено 4): 253\n",
      "Константные признаки: 5\n",
      "Бинарные признаки: 0\n",
      "Категориальные: 1\n",
      "Вещественные признаки: 247\n"
     ]
    }
   ],
   "source": [
    "print('Всего признаков (из них было удалено 4):', train_merged_nearest.shape[1] - 4)\n",
    "print('Константные признаки:', len(const))\n",
    "print('Бинарные признаки:', len(binary))\n",
    "print('Категориальные:', len(categorical))\n",
    "print('Вещественные признаки:', len(numeric))"
   ],
   "metadata": {
    "collapsed": false,
    "pycharm": {
     "name": "#%%\n"
    }
   }
  },
  {
   "cell_type": "code",
   "execution_count": 112,
   "outputs": [
    {
     "data": {
      "text/plain": "0.0       620787\n1.0       210823\n2.0            5\n10.0           3\n8.0            3\n3.0            3\n7.0            2\n13.0           2\n5.0            2\n4.0            2\n11.0           2\n68.0           1\n182.0          1\n19.0           1\n299.0          1\n284.0          1\n18.0           1\n24.0           1\n195.0          1\n84.0           1\n44.0           1\n42.0           1\n77.0           1\n16.0           1\n6.0            1\n283.0          1\n251.0          1\n223.0          1\n1743.0         1\n22.0           1\nName: 252, dtype: int64"
     },
     "execution_count": 112,
     "metadata": {},
     "output_type": "execute_result"
    }
   ],
   "source": [
    "# этот признак либо обработать до бинарного, либо удалить, так как он не разделяет классы\n",
    "train_merged_nearest['252'].value_counts()"
   ],
   "metadata": {
    "collapsed": false,
    "pycharm": {
     "name": "#%%\n"
    }
   }
  },
  {
   "cell_type": "markdown",
   "source": [
    "### Уменьшение размеров датасета\n",
    "Уменьшим объем занимаемой памяти датасета с помощью функции, которая преобразовывает типы данных, а также уменьшим количество признаков с помощью метода главных компонент (PCA), предварительно отмасштабировав признаки, которые будем сжимать."
   ],
   "metadata": {
    "collapsed": false,
    "pycharm": {
     "name": "#%% md\n"
    }
   }
  },
  {
   "cell_type": "code",
   "execution_count": 119,
   "outputs": [
    {
     "name": "stdout",
     "output_type": "stream",
     "text": [
      "Memory usage of dataframe is 821.68 MB\n",
      "Memory usage after optimization is: 821.68 MB\n",
      "Decreased by 0.0%\n",
      "Memory usage of dataframe is 70.10 MB\n",
      "Memory usage after optimization is: 70.10 MB\n",
      "Decreased by 0.0%\n"
     ]
    }
   ],
   "source": [
    "train_merged_nearest = reduce_mem_usage(train_merged_nearest)\n",
    "test_merged_nearest = reduce_mem_usage(test_merged_nearest)"
   ],
   "metadata": {
    "collapsed": false,
    "pycharm": {
     "name": "#%%\n"
    }
   }
  },
  {
   "cell_type": "code",
   "execution_count": 134,
   "outputs": [],
   "source": [
    "# Масштабирование вещественных признаков с помощью StandardScaler\n",
    "numeric = list(numeric)\n",
    "const = list(const)\n",
    "\n",
    "train_merged_nearest_scaled = train_merged_nearest.copy()\n",
    "test_merged_nearest_scaled = test_merged_nearest.copy()\n",
    "\n",
    "scaler = StandardScaler()\n",
    "train_merged_nearest_scaled[numeric] = scaler.fit_transform(train_merged_nearest_scaled[numeric])\n",
    "test_merged_nearest_scaled[numeric] = scaler.transform(test_merged_nearest_scaled[numeric])"
   ],
   "metadata": {
    "collapsed": false,
    "pycharm": {
     "name": "#%%\n"
    }
   }
  },
  {
   "cell_type": "code",
   "execution_count": 123,
   "outputs": [
    {
     "data": {
      "text/plain": "        id  vas_id    buy_time  target         0         1         2  \\\n0  2582523     2.0  1531083600     0.0  1.049204  0.015247  1.119349   \n1  1292549     2.0  1531083600     0.0  0.312428 -0.446442  0.260289   \n\n          3         4         5  ...       243       244       245       246  \\\n0  0.009822  1.059787 -0.025904  ...  2.034914 -0.258175 -0.018624  0.403460   \n1 -0.489933  0.233314 -0.479580  ... -0.306714 -0.275667 -0.019358 -0.124827   \n\n        247       248       249       250       251  252  \n0  0.110864 -0.063485 -0.094156 -0.055676 -0.039467  0.0  \n1 -0.236157 -0.097394 -0.094156 -0.060568 -0.039467  0.0  \n\n[2 rows x 257 columns]",
      "text/html": "<div>\n<style scoped>\n    .dataframe tbody tr th:only-of-type {\n        vertical-align: middle;\n    }\n\n    .dataframe tbody tr th {\n        vertical-align: top;\n    }\n\n    .dataframe thead th {\n        text-align: right;\n    }\n</style>\n<table border=\"1\" class=\"dataframe\">\n  <thead>\n    <tr style=\"text-align: right;\">\n      <th></th>\n      <th>id</th>\n      <th>vas_id</th>\n      <th>buy_time</th>\n      <th>target</th>\n      <th>0</th>\n      <th>1</th>\n      <th>2</th>\n      <th>3</th>\n      <th>4</th>\n      <th>5</th>\n      <th>...</th>\n      <th>243</th>\n      <th>244</th>\n      <th>245</th>\n      <th>246</th>\n      <th>247</th>\n      <th>248</th>\n      <th>249</th>\n      <th>250</th>\n      <th>251</th>\n      <th>252</th>\n    </tr>\n  </thead>\n  <tbody>\n    <tr>\n      <th>0</th>\n      <td>2582523</td>\n      <td>2.0</td>\n      <td>1531083600</td>\n      <td>0.0</td>\n      <td>1.049204</td>\n      <td>0.015247</td>\n      <td>1.119349</td>\n      <td>0.009822</td>\n      <td>1.059787</td>\n      <td>-0.025904</td>\n      <td>...</td>\n      <td>2.034914</td>\n      <td>-0.258175</td>\n      <td>-0.018624</td>\n      <td>0.403460</td>\n      <td>0.110864</td>\n      <td>-0.063485</td>\n      <td>-0.094156</td>\n      <td>-0.055676</td>\n      <td>-0.039467</td>\n      <td>0.0</td>\n    </tr>\n    <tr>\n      <th>1</th>\n      <td>1292549</td>\n      <td>2.0</td>\n      <td>1531083600</td>\n      <td>0.0</td>\n      <td>0.312428</td>\n      <td>-0.446442</td>\n      <td>0.260289</td>\n      <td>-0.489933</td>\n      <td>0.233314</td>\n      <td>-0.479580</td>\n      <td>...</td>\n      <td>-0.306714</td>\n      <td>-0.275667</td>\n      <td>-0.019358</td>\n      <td>-0.124827</td>\n      <td>-0.236157</td>\n      <td>-0.097394</td>\n      <td>-0.094156</td>\n      <td>-0.060568</td>\n      <td>-0.039467</td>\n      <td>0.0</td>\n    </tr>\n  </tbody>\n</table>\n<p>2 rows × 257 columns</p>\n</div>"
     },
     "execution_count": 123,
     "metadata": {},
     "output_type": "execute_result"
    }
   ],
   "source": [
    "train_merged_nearest_scaled.head(2)"
   ],
   "metadata": {
    "collapsed": false,
    "pycharm": {
     "name": "#%%\n"
    }
   }
  },
  {
   "cell_type": "code",
   "execution_count": 129,
   "outputs": [
    {
     "data": {
      "text/plain": "(831653, 257)"
     },
     "execution_count": 129,
     "metadata": {},
     "output_type": "execute_result"
    }
   ],
   "source": [
    "train_merged_nearest_scaled.shape"
   ],
   "metadata": {
    "collapsed": false,
    "pycharm": {
     "name": "#%%\n"
    }
   }
  },
  {
   "cell_type": "code",
   "execution_count": 124,
   "outputs": [
    {
     "data": {
      "text/plain": "((831653, 50), (71231, 50))"
     },
     "execution_count": 124,
     "metadata": {},
     "output_type": "execute_result"
    }
   ],
   "source": [
    "n_comp = 50\n",
    "pca = PCA(n_components=n_comp)\n",
    "\n",
    "components_train = pca.fit_transform(train_merged_nearest_scaled[numeric])\n",
    "components_test = pca.transform(test_merged_nearest_scaled[numeric])\n",
    "\n",
    "train_redused = pd.DataFrame(data = components_train, columns = [f\"component_{n}\" for n in range(n_comp)])\n",
    "test_redused = pd.DataFrame(data = components_test, columns = [f\"component_{n}\" for n in range(n_comp)])\n",
    "\n",
    "train_redused.shape, test_redused.shape"
   ],
   "metadata": {
    "collapsed": false,
    "pycharm": {
     "name": "#%%\n"
    }
   }
  },
  {
   "cell_type": "code",
   "execution_count": 135,
   "outputs": [
    {
     "data": {
      "text/plain": "        id  vas_id    buy_time  target  252  component_0  component_1  \\\n0  2582523     2.0  1531083600     0.0  0.0    -0.379565     3.028142   \n1  1292549     2.0  1531083600     0.0  0.0    -0.732555    -1.241620   \n2  4053116     1.0  1531083600     0.0  1.0    -4.904805     1.398003   \n3  4158361     2.0  1531083600     0.0  1.0     0.738585    -0.327294   \n4  3754468     4.0  1531083600     0.0  0.0     2.087168     0.021381   \n\n   component_2  component_3  component_4  ...  component_40  component_41  \\\n0    -3.500371     1.187461     1.037129  ...      1.002739      0.263111   \n1     0.808876    -1.112869    -0.056170  ...     -0.160786     -0.395541   \n2    -1.793186     4.859256     2.093246  ...      0.227615     -0.612525   \n3    -0.920619    -0.507506    -0.035862  ...      0.920590     -0.710220   \n4     2.561606    -0.447806    -0.265248  ...     -1.033349     -0.867090   \n\n   component_42  component_43  component_44  component_45  component_46  \\\n0     -0.435263      1.549307     -1.782069     -1.105894     -0.891954   \n1     -0.883232     -0.790913      0.155308     -1.031596      1.128488   \n2      0.268357      0.206455     -0.924363     -1.556419     -1.225303   \n3     -1.096233     -0.298477      0.576943     -0.538938      0.229892   \n4     -0.569756      0.052730     -0.848584      2.657796     -2.327419   \n\n   component_47  component_48  component_49  \n0      0.241378      0.041470     -0.847622  \n1     -0.054172     -0.432766     -0.587913  \n2      0.336331      1.378801     -1.779163  \n3     -0.132580      0.933606      0.867556  \n4      0.606161     -0.487402      0.261275  \n\n[5 rows x 55 columns]",
      "text/html": "<div>\n<style scoped>\n    .dataframe tbody tr th:only-of-type {\n        vertical-align: middle;\n    }\n\n    .dataframe tbody tr th {\n        vertical-align: top;\n    }\n\n    .dataframe thead th {\n        text-align: right;\n    }\n</style>\n<table border=\"1\" class=\"dataframe\">\n  <thead>\n    <tr style=\"text-align: right;\">\n      <th></th>\n      <th>id</th>\n      <th>vas_id</th>\n      <th>buy_time</th>\n      <th>target</th>\n      <th>252</th>\n      <th>component_0</th>\n      <th>component_1</th>\n      <th>component_2</th>\n      <th>component_3</th>\n      <th>component_4</th>\n      <th>...</th>\n      <th>component_40</th>\n      <th>component_41</th>\n      <th>component_42</th>\n      <th>component_43</th>\n      <th>component_44</th>\n      <th>component_45</th>\n      <th>component_46</th>\n      <th>component_47</th>\n      <th>component_48</th>\n      <th>component_49</th>\n    </tr>\n  </thead>\n  <tbody>\n    <tr>\n      <th>0</th>\n      <td>2582523</td>\n      <td>2.0</td>\n      <td>1531083600</td>\n      <td>0.0</td>\n      <td>0.0</td>\n      <td>-0.379565</td>\n      <td>3.028142</td>\n      <td>-3.500371</td>\n      <td>1.187461</td>\n      <td>1.037129</td>\n      <td>...</td>\n      <td>1.002739</td>\n      <td>0.263111</td>\n      <td>-0.435263</td>\n      <td>1.549307</td>\n      <td>-1.782069</td>\n      <td>-1.105894</td>\n      <td>-0.891954</td>\n      <td>0.241378</td>\n      <td>0.041470</td>\n      <td>-0.847622</td>\n    </tr>\n    <tr>\n      <th>1</th>\n      <td>1292549</td>\n      <td>2.0</td>\n      <td>1531083600</td>\n      <td>0.0</td>\n      <td>0.0</td>\n      <td>-0.732555</td>\n      <td>-1.241620</td>\n      <td>0.808876</td>\n      <td>-1.112869</td>\n      <td>-0.056170</td>\n      <td>...</td>\n      <td>-0.160786</td>\n      <td>-0.395541</td>\n      <td>-0.883232</td>\n      <td>-0.790913</td>\n      <td>0.155308</td>\n      <td>-1.031596</td>\n      <td>1.128488</td>\n      <td>-0.054172</td>\n      <td>-0.432766</td>\n      <td>-0.587913</td>\n    </tr>\n    <tr>\n      <th>2</th>\n      <td>4053116</td>\n      <td>1.0</td>\n      <td>1531083600</td>\n      <td>0.0</td>\n      <td>1.0</td>\n      <td>-4.904805</td>\n      <td>1.398003</td>\n      <td>-1.793186</td>\n      <td>4.859256</td>\n      <td>2.093246</td>\n      <td>...</td>\n      <td>0.227615</td>\n      <td>-0.612525</td>\n      <td>0.268357</td>\n      <td>0.206455</td>\n      <td>-0.924363</td>\n      <td>-1.556419</td>\n      <td>-1.225303</td>\n      <td>0.336331</td>\n      <td>1.378801</td>\n      <td>-1.779163</td>\n    </tr>\n    <tr>\n      <th>3</th>\n      <td>4158361</td>\n      <td>2.0</td>\n      <td>1531083600</td>\n      <td>0.0</td>\n      <td>1.0</td>\n      <td>0.738585</td>\n      <td>-0.327294</td>\n      <td>-0.920619</td>\n      <td>-0.507506</td>\n      <td>-0.035862</td>\n      <td>...</td>\n      <td>0.920590</td>\n      <td>-0.710220</td>\n      <td>-1.096233</td>\n      <td>-0.298477</td>\n      <td>0.576943</td>\n      <td>-0.538938</td>\n      <td>0.229892</td>\n      <td>-0.132580</td>\n      <td>0.933606</td>\n      <td>0.867556</td>\n    </tr>\n    <tr>\n      <th>4</th>\n      <td>3754468</td>\n      <td>4.0</td>\n      <td>1531083600</td>\n      <td>0.0</td>\n      <td>0.0</td>\n      <td>2.087168</td>\n      <td>0.021381</td>\n      <td>2.561606</td>\n      <td>-0.447806</td>\n      <td>-0.265248</td>\n      <td>...</td>\n      <td>-1.033349</td>\n      <td>-0.867090</td>\n      <td>-0.569756</td>\n      <td>0.052730</td>\n      <td>-0.848584</td>\n      <td>2.657796</td>\n      <td>-2.327419</td>\n      <td>0.606161</td>\n      <td>-0.487402</td>\n      <td>0.261275</td>\n    </tr>\n  </tbody>\n</table>\n<p>5 rows × 55 columns</p>\n</div>"
     },
     "execution_count": 135,
     "metadata": {},
     "output_type": "execute_result"
    }
   ],
   "source": [
    "train_pca = pd.concat([train_merged_nearest_scaled, train_redused], axis=1)\n",
    "train_pca.drop(columns=numeric+const, inplace=True)\n",
    "\n",
    "train_pca.head()\n",
    "# train_merged_nearest_scaled.shape"
   ],
   "metadata": {
    "collapsed": false,
    "pycharm": {
     "name": "#%%\n"
    }
   }
  },
  {
   "cell_type": "code",
   "execution_count": 136,
   "outputs": [
    {
     "data": {
      "text/plain": "        id  vas_id    buy_time  252  component_0  component_1  component_2  \\\n0  2905850     5.0  1546808400  0.0    -2.108865     2.008964    -0.680932   \n1    31619     2.0  1546808400  0.0     0.187221    -0.783811     1.446463   \n2  1427271     6.0  1546808400  0.0    -3.459512     2.924535    -1.996942   \n3  2162521     6.0  1546808400  0.0    -0.421286    -1.363834     1.143938   \n4  1529304     6.0  1546808400  1.0    -4.070811    -1.120185     1.827899   \n\n   component_3  component_4  component_5  ...  component_40  component_41  \\\n0    -0.645873    -0.252169     0.058302  ...     -0.582579      0.332824   \n1    -0.970002     0.073032    -0.281519  ...     -0.774290      0.718145   \n2     1.149771     0.273366    -1.354597  ...      0.241564      1.047118   \n3    -1.366164     0.200698    -0.374600  ...      0.315521      0.168451   \n4     0.396192    -0.248577     0.608398  ...      0.395898     -0.747956   \n\n   component_42  component_43  component_44  component_45  component_46  \\\n0     -0.258431     -0.570570     -0.481163     -0.818266      1.374948   \n1     -0.916016      0.629134      0.800355     -0.203236      0.084248   \n2      1.576573     -1.005940      0.940569     -1.116288     -0.873351   \n3      0.166489     -0.734784     -0.499309     -0.123867      0.424443   \n4     -1.003190      1.532903      1.056886      0.202940      0.059298   \n\n   component_47  component_48  component_49  \n0     -0.097509      0.395715      0.105542  \n1      0.179651      0.163358      0.593177  \n2      0.800971      0.145993      1.473983  \n3      0.042869     -0.159201     -0.530986  \n4     -0.193865      0.658619      0.539136  \n\n[5 rows x 54 columns]",
      "text/html": "<div>\n<style scoped>\n    .dataframe tbody tr th:only-of-type {\n        vertical-align: middle;\n    }\n\n    .dataframe tbody tr th {\n        vertical-align: top;\n    }\n\n    .dataframe thead th {\n        text-align: right;\n    }\n</style>\n<table border=\"1\" class=\"dataframe\">\n  <thead>\n    <tr style=\"text-align: right;\">\n      <th></th>\n      <th>id</th>\n      <th>vas_id</th>\n      <th>buy_time</th>\n      <th>252</th>\n      <th>component_0</th>\n      <th>component_1</th>\n      <th>component_2</th>\n      <th>component_3</th>\n      <th>component_4</th>\n      <th>component_5</th>\n      <th>...</th>\n      <th>component_40</th>\n      <th>component_41</th>\n      <th>component_42</th>\n      <th>component_43</th>\n      <th>component_44</th>\n      <th>component_45</th>\n      <th>component_46</th>\n      <th>component_47</th>\n      <th>component_48</th>\n      <th>component_49</th>\n    </tr>\n  </thead>\n  <tbody>\n    <tr>\n      <th>0</th>\n      <td>2905850</td>\n      <td>5.0</td>\n      <td>1546808400</td>\n      <td>0.0</td>\n      <td>-2.108865</td>\n      <td>2.008964</td>\n      <td>-0.680932</td>\n      <td>-0.645873</td>\n      <td>-0.252169</td>\n      <td>0.058302</td>\n      <td>...</td>\n      <td>-0.582579</td>\n      <td>0.332824</td>\n      <td>-0.258431</td>\n      <td>-0.570570</td>\n      <td>-0.481163</td>\n      <td>-0.818266</td>\n      <td>1.374948</td>\n      <td>-0.097509</td>\n      <td>0.395715</td>\n      <td>0.105542</td>\n    </tr>\n    <tr>\n      <th>1</th>\n      <td>31619</td>\n      <td>2.0</td>\n      <td>1546808400</td>\n      <td>0.0</td>\n      <td>0.187221</td>\n      <td>-0.783811</td>\n      <td>1.446463</td>\n      <td>-0.970002</td>\n      <td>0.073032</td>\n      <td>-0.281519</td>\n      <td>...</td>\n      <td>-0.774290</td>\n      <td>0.718145</td>\n      <td>-0.916016</td>\n      <td>0.629134</td>\n      <td>0.800355</td>\n      <td>-0.203236</td>\n      <td>0.084248</td>\n      <td>0.179651</td>\n      <td>0.163358</td>\n      <td>0.593177</td>\n    </tr>\n    <tr>\n      <th>2</th>\n      <td>1427271</td>\n      <td>6.0</td>\n      <td>1546808400</td>\n      <td>0.0</td>\n      <td>-3.459512</td>\n      <td>2.924535</td>\n      <td>-1.996942</td>\n      <td>1.149771</td>\n      <td>0.273366</td>\n      <td>-1.354597</td>\n      <td>...</td>\n      <td>0.241564</td>\n      <td>1.047118</td>\n      <td>1.576573</td>\n      <td>-1.005940</td>\n      <td>0.940569</td>\n      <td>-1.116288</td>\n      <td>-0.873351</td>\n      <td>0.800971</td>\n      <td>0.145993</td>\n      <td>1.473983</td>\n    </tr>\n    <tr>\n      <th>3</th>\n      <td>2162521</td>\n      <td>6.0</td>\n      <td>1546808400</td>\n      <td>0.0</td>\n      <td>-0.421286</td>\n      <td>-1.363834</td>\n      <td>1.143938</td>\n      <td>-1.366164</td>\n      <td>0.200698</td>\n      <td>-0.374600</td>\n      <td>...</td>\n      <td>0.315521</td>\n      <td>0.168451</td>\n      <td>0.166489</td>\n      <td>-0.734784</td>\n      <td>-0.499309</td>\n      <td>-0.123867</td>\n      <td>0.424443</td>\n      <td>0.042869</td>\n      <td>-0.159201</td>\n      <td>-0.530986</td>\n    </tr>\n    <tr>\n      <th>4</th>\n      <td>1529304</td>\n      <td>6.0</td>\n      <td>1546808400</td>\n      <td>1.0</td>\n      <td>-4.070811</td>\n      <td>-1.120185</td>\n      <td>1.827899</td>\n      <td>0.396192</td>\n      <td>-0.248577</td>\n      <td>0.608398</td>\n      <td>...</td>\n      <td>0.395898</td>\n      <td>-0.747956</td>\n      <td>-1.003190</td>\n      <td>1.532903</td>\n      <td>1.056886</td>\n      <td>0.202940</td>\n      <td>0.059298</td>\n      <td>-0.193865</td>\n      <td>0.658619</td>\n      <td>0.539136</td>\n    </tr>\n  </tbody>\n</table>\n<p>5 rows × 54 columns</p>\n</div>"
     },
     "execution_count": 136,
     "metadata": {},
     "output_type": "execute_result"
    }
   ],
   "source": [
    "test_pca = pd.concat([test_merged_nearest_scaled, test_redused], axis=1)\n",
    "test_pca.drop(columns=numeric+const, inplace=True)\n",
    "test_pca.head()"
   ],
   "metadata": {
    "collapsed": false,
    "pycharm": {
     "name": "#%%\n"
    }
   }
  },
  {
   "cell_type": "markdown",
   "source": [
    "Сохраним преобразованные датасеты в файлы для дальнейшей работы с ними"
   ],
   "metadata": {
    "collapsed": false,
    "pycharm": {
     "name": "#%% md\n"
    }
   }
  },
  {
   "cell_type": "code",
   "execution_count": 137,
   "outputs": [],
   "source": [
    "train_pca.to_csv('train_merged_pca.csv', index=False, encoding='utf-8')\n",
    "test_pca.to_csv('test_merged_pca.csv', index=False, encoding='utf-8')"
   ],
   "metadata": {
    "collapsed": false,
    "pycharm": {
     "name": "#%%\n"
    }
   }
  },
  {
   "cell_type": "markdown",
   "source": [],
   "metadata": {
    "collapsed": false
   }
  },
  {
   "cell_type": "markdown",
   "source": [
    "Сохранение готовых датасетов"
   ],
   "metadata": {
    "collapsed": false,
    "pycharm": {
     "name": "#%% md\n"
    }
   }
  },
  {
   "cell_type": "code",
   "execution_count": 43,
   "outputs": [],
   "source": [
    "# IMAGES_PATH = Path(__file__).parent.joinpath('data')\n",
    "# if not IMAGES_PATH.exists():\n",
    "#     IMAGES_PATH.mkdir()"
   ],
   "metadata": {
    "collapsed": false,
    "pycharm": {
     "name": "#%%\n"
    }
   }
  }
 ],
 "metadata": {
  "kernelspec": {
   "display_name": "Python 3",
   "language": "python",
   "name": "python3"
  },
  "language_info": {
   "codemirror_mode": {
    "name": "ipython",
    "version": 2
   },
   "file_extension": ".py",
   "mimetype": "text/x-python",
   "name": "python",
   "nbconvert_exporter": "python",
   "pygments_lexer": "ipython2",
   "version": "2.7.6"
  }
 },
 "nbformat": 4,
 "nbformat_minor": 0
}