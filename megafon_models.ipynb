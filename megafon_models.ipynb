{
 "cells": [
  {
   "cell_type": "code",
   "execution_count": 1,
   "metadata": {
    "id": "ARyxm60o0ctv"
   },
   "outputs": [],
   "source": [
    "# !pip install dask \n",
    "# !pip install imblearn\n",
    "# !pip install catboost\n",
    "# !python -m pip install 'fsspec>=0.3.3'\n"
   ]
  },
  {
   "cell_type": "code",
   "execution_count": 2,
   "metadata": {
    "id": "U8D4oxTH0ctz"
   },
   "outputs": [],
   "source": [
    "import pandas as pd\n",
    "import numpy as np\n",
    "import matplotlib.pyplot as plt\n",
    "import pickle\n",
    "\n",
    "from sklearn.model_selection import train_test_split, cross_val_score, learning_curve\n",
    "from sklearn.metrics import classification_report, f1_score, precision_score, recall_score\n",
    "from sklearn.model_selection import StratifiedKFold\n",
    "\n",
    "# from catboost import CatBoostClassifier"
   ]
  },
  {
   "cell_type": "code",
   "execution_count": 3,
   "metadata": {
    "colab": {
     "base_uri": "https://localhost:8080/"
    },
    "id": "xI_M3rgz2tsI",
    "outputId": "800e84fd-d4cc-4c6a-8804-5ed240ab8bb9"
   },
   "outputs": [],
   "source": [
    "# from google.colab import drive\n",
    "# drive.mount('/content/drive')"
   ]
  },
  {
   "cell_type": "code",
   "execution_count": 4,
   "metadata": {
    "id": "LBYJ1iJw0ct1"
   },
   "outputs": [],
   "source": [
    "def get_classification_report(y_train_true, y_train_pred, y_test_true, y_test_pred):\n",
    "    print('TRAIN\\n\\n' + classification_report(y_train_true, y_train_pred))\n",
    "    print('TEST\\n\\n' + classification_report(y_test_true, y_test_pred))\n",
    "    print('CONFUSION MATRIX\\n')\n",
    "    print(pd.crosstab(y_test_true, y_test_pred))\n",
    "\n",
    "def evaluate_preds(model, X_train, X_test, y_train, y_test):\n",
    "    y_train_pred = model.predict(X_train)\n",
    "    y_test_pred = model.predict(X_test)\n",
    "\n",
    "    get_classification_report(y_train, y_train_pred, y_test, y_test_pred)"
   ]
  },
  {
   "cell_type": "code",
   "execution_count": 5,
   "metadata": {
    "id": "swKFdB4S0ct2"
   },
   "outputs": [],
   "source": [
    "def show_learning_curve_plot(estimator, X, y, cv=3, n_jobs=-1, train_sizes=np.linspace(.1, 1.0, 10)):\n",
    "\n",
    "    train_sizes, train_scores, test_scores = learning_curve(estimator, X, y, \n",
    "                                                            cv=cv, \n",
    "                                                            scoring='f1',\n",
    "                                                            train_sizes=train_sizes, \n",
    "                                                            n_jobs=n_jobs)\n",
    "    train_scores_mean = np.mean(train_scores, axis=1)\n",
    "    train_scores_std = np.std(train_scores, axis=1)\n",
    "    test_scores_mean = np.mean(test_scores, axis=1)\n",
    "    test_scores_std = np.std(test_scores, axis=1)\n",
    "\n",
    "    plt.figure(figsize=(9,6))\n",
    "    plt.fill_between(train_sizes, train_scores_mean - train_scores_std,\n",
    "                     train_scores_mean + train_scores_std, alpha=0.1, color=\"r\")\n",
    "    plt.fill_between(train_sizes, test_scores_mean - test_scores_std,\n",
    "                     test_scores_mean + test_scores_std, alpha=0.1, color=\"g\")\n",
    "    plt.plot(train_sizes, train_scores_mean, 'o-', color=\"r\",\n",
    "             label=\"Training score\")\n",
    "    plt.plot(train_sizes, test_scores_mean, 'o-', color=\"g\",\n",
    "             label=\"Cross-validation score\")\n",
    "\n",
    "    plt.title(f\"Learning curves ({type(estimator).__name__})\")\n",
    "    plt.xlabel(\"Training examples\")\n",
    "    plt.ylabel(\"Score\")     \n",
    "    plt.legend(loc=\"best\")\n",
    "    plt.grid()\n",
    "    plt.show()"
   ]
  },
  {
   "cell_type": "code",
   "execution_count": 6,
   "metadata": {
    "id": "owBPAPBp0ct3"
   },
   "outputs": [],
   "source": [
    "def show_proba_calibration_plots(y_predicted_probs, y_true_labels):\n",
    "    preds_with_true_labels = np.array(list(zip(y_predicted_probs, y_true_labels)))\n",
    "\n",
    "    thresholds = []\n",
    "    precisions = []\n",
    "    recalls = []\n",
    "    f1_scores = []\n",
    "\n",
    "    for threshold in np.linspace(0.1, 0.9, 9):\n",
    "        thresholds.append(threshold)\n",
    "        precisions.append(precision_score(y_true_labels, list(map(int, y_predicted_probs > threshold))))\n",
    "        recalls.append(recall_score(y_true_labels, list(map(int, y_predicted_probs > threshold))))\n",
    "        f1_scores.append(f1_score(y_true_labels, list(map(int, y_predicted_probs > threshold))))\n",
    "\n",
    "    scores_table = pd.DataFrame({'f1':f1_scores,\n",
    "                                 'precision':precisions,\n",
    "                                 'recall':recalls,\n",
    "                                 'probability':thresholds}).sort_values('f1', ascending=False).round(3)\n",
    "  \n",
    "    figure = plt.figure(figsize = (9, 4))\n",
    "\n",
    "    plt1 = figure.add_subplot(121)\n",
    "    plt1.plot(thresholds, precisions, label='Precision', linewidth=4)\n",
    "    plt1.plot(thresholds, recalls, label='Recall', linewidth=4)\n",
    "    plt1.plot(thresholds, f1_scores, label='F1', linewidth=4)\n",
    "    plt1.set_ylabel('Scores')\n",
    "    plt1.set_xlabel('Probability threshold')\n",
    "    plt1.set_title('Probabilities threshold calibration')\n",
    "    plt1.legend(bbox_to_anchor=(0.25, 0.25))   \n",
    "    plt1.table(cellText = scores_table.values,\n",
    "               colLabels = scores_table.columns, \n",
    "               colLoc = 'center', cellLoc = 'center', loc = 'bottom', bbox = [0, -1.3, 1, 1])\n",
    "\n",
    "    plt2 = figure.add_subplot(122)\n",
    "    plt2.hist(preds_with_true_labels[preds_with_true_labels[:, 1] == 0][:, 0], \n",
    "              label='Another class', color='royalblue', alpha=1)\n",
    "    plt2.hist(preds_with_true_labels[preds_with_true_labels[:, 1] == 1][:, 0], \n",
    "              label='Main class', color='darkcyan', alpha=0.8)\n",
    "    plt2.set_ylabel('Number of examples')\n",
    "    plt2.set_xlabel('Probabilities')\n",
    "    plt2.set_title('Probability histogram')\n",
    "    plt2.legend(bbox_to_anchor=(1, 1))\n",
    "\n",
    "    plt.show()"
   ]
  },
  {
   "cell_type": "code",
   "execution_count": 7,
   "metadata": {
    "colab": {
     "base_uri": "https://localhost:8080/"
    },
    "id": "ifeh7y670ct4",
    "outputId": "a996d629-4c0e-432b-e8b8-1b67f825407b"
   },
   "outputs": [
    {
     "name": "stdout",
     "output_type": "stream",
     "text": [
      "CPU times: user 4.6 s, sys: 492 ms, total: 5.09 s\n",
      "Wall time: 5.65 s\n"
     ]
    }
   ],
   "source": [
    "%%time\n",
    "\n",
    "train = pd.read_csv('data/train_merged_pca.csv')\n",
    "test = pd.read_csv('data/test_merged_pca.csv')\n"
   ]
  },
  {
   "cell_type": "code",
   "execution_count": 8,
   "metadata": {
    "colab": {
     "base_uri": "https://localhost:8080/",
     "height": 270
    },
    "id": "6jKOgC8r0ct6",
    "outputId": "b77ac6c1-166f-4c8a-a179-fb4223064ab4"
   },
   "outputs": [
    {
     "data": {
      "text/plain": "        id  vas_id    buy_time  target  252  component_0  component_1  \\\n0  2582523     2.0  1531083600     0.0  0.0    -0.379565     3.028142   \n1  1292549     2.0  1531083600     0.0  0.0    -0.732555    -1.241620   \n2  4053116     1.0  1531083600     0.0  1.0    -4.904805     1.398003   \n3  4158361     2.0  1531083600     0.0  1.0     0.738585    -0.327294   \n4  3754468     4.0  1531083600     0.0  0.0     2.087168     0.021381   \n\n   component_2  component_3  component_4  ...  component_40  component_41  \\\n0    -3.500370     1.187461     1.037129  ...      1.002739      0.263111   \n1     0.808876    -1.112869    -0.056170  ...     -0.160786     -0.395541   \n2    -1.793186     4.859256     2.093246  ...      0.227615     -0.612525   \n3    -0.920619    -0.507506    -0.035862  ...      0.920590     -0.710220   \n4     2.561606    -0.447806    -0.265248  ...     -1.033349     -0.867090   \n\n   component_42  component_43  component_44  component_45  component_46  \\\n0     -0.435263      1.549308     -1.782069     -1.105894     -0.891954   \n1     -0.883232     -0.790913      0.155308     -1.031596      1.128488   \n2      0.268357      0.206455     -0.924363     -1.556419     -1.225303   \n3     -1.096234     -0.298477      0.576943     -0.538938      0.229892   \n4     -0.569756      0.052730     -0.848584      2.657796     -2.327419   \n\n   component_47  component_48  component_49  \n0      0.241378      0.041470     -0.847622  \n1     -0.054172     -0.432766     -0.587913  \n2      0.336331      1.378801     -1.779163  \n3     -0.132580      0.933606      0.867556  \n4      0.606161     -0.487402      0.261275  \n\n[5 rows x 55 columns]",
      "text/html": "<div>\n<style scoped>\n    .dataframe tbody tr th:only-of-type {\n        vertical-align: middle;\n    }\n\n    .dataframe tbody tr th {\n        vertical-align: top;\n    }\n\n    .dataframe thead th {\n        text-align: right;\n    }\n</style>\n<table border=\"1\" class=\"dataframe\">\n  <thead>\n    <tr style=\"text-align: right;\">\n      <th></th>\n      <th>id</th>\n      <th>vas_id</th>\n      <th>buy_time</th>\n      <th>target</th>\n      <th>252</th>\n      <th>component_0</th>\n      <th>component_1</th>\n      <th>component_2</th>\n      <th>component_3</th>\n      <th>component_4</th>\n      <th>...</th>\n      <th>component_40</th>\n      <th>component_41</th>\n      <th>component_42</th>\n      <th>component_43</th>\n      <th>component_44</th>\n      <th>component_45</th>\n      <th>component_46</th>\n      <th>component_47</th>\n      <th>component_48</th>\n      <th>component_49</th>\n    </tr>\n  </thead>\n  <tbody>\n    <tr>\n      <th>0</th>\n      <td>2582523</td>\n      <td>2.0</td>\n      <td>1531083600</td>\n      <td>0.0</td>\n      <td>0.0</td>\n      <td>-0.379565</td>\n      <td>3.028142</td>\n      <td>-3.500370</td>\n      <td>1.187461</td>\n      <td>1.037129</td>\n      <td>...</td>\n      <td>1.002739</td>\n      <td>0.263111</td>\n      <td>-0.435263</td>\n      <td>1.549308</td>\n      <td>-1.782069</td>\n      <td>-1.105894</td>\n      <td>-0.891954</td>\n      <td>0.241378</td>\n      <td>0.041470</td>\n      <td>-0.847622</td>\n    </tr>\n    <tr>\n      <th>1</th>\n      <td>1292549</td>\n      <td>2.0</td>\n      <td>1531083600</td>\n      <td>0.0</td>\n      <td>0.0</td>\n      <td>-0.732555</td>\n      <td>-1.241620</td>\n      <td>0.808876</td>\n      <td>-1.112869</td>\n      <td>-0.056170</td>\n      <td>...</td>\n      <td>-0.160786</td>\n      <td>-0.395541</td>\n      <td>-0.883232</td>\n      <td>-0.790913</td>\n      <td>0.155308</td>\n      <td>-1.031596</td>\n      <td>1.128488</td>\n      <td>-0.054172</td>\n      <td>-0.432766</td>\n      <td>-0.587913</td>\n    </tr>\n    <tr>\n      <th>2</th>\n      <td>4053116</td>\n      <td>1.0</td>\n      <td>1531083600</td>\n      <td>0.0</td>\n      <td>1.0</td>\n      <td>-4.904805</td>\n      <td>1.398003</td>\n      <td>-1.793186</td>\n      <td>4.859256</td>\n      <td>2.093246</td>\n      <td>...</td>\n      <td>0.227615</td>\n      <td>-0.612525</td>\n      <td>0.268357</td>\n      <td>0.206455</td>\n      <td>-0.924363</td>\n      <td>-1.556419</td>\n      <td>-1.225303</td>\n      <td>0.336331</td>\n      <td>1.378801</td>\n      <td>-1.779163</td>\n    </tr>\n    <tr>\n      <th>3</th>\n      <td>4158361</td>\n      <td>2.0</td>\n      <td>1531083600</td>\n      <td>0.0</td>\n      <td>1.0</td>\n      <td>0.738585</td>\n      <td>-0.327294</td>\n      <td>-0.920619</td>\n      <td>-0.507506</td>\n      <td>-0.035862</td>\n      <td>...</td>\n      <td>0.920590</td>\n      <td>-0.710220</td>\n      <td>-1.096234</td>\n      <td>-0.298477</td>\n      <td>0.576943</td>\n      <td>-0.538938</td>\n      <td>0.229892</td>\n      <td>-0.132580</td>\n      <td>0.933606</td>\n      <td>0.867556</td>\n    </tr>\n    <tr>\n      <th>4</th>\n      <td>3754468</td>\n      <td>4.0</td>\n      <td>1531083600</td>\n      <td>0.0</td>\n      <td>0.0</td>\n      <td>2.087168</td>\n      <td>0.021381</td>\n      <td>2.561606</td>\n      <td>-0.447806</td>\n      <td>-0.265248</td>\n      <td>...</td>\n      <td>-1.033349</td>\n      <td>-0.867090</td>\n      <td>-0.569756</td>\n      <td>0.052730</td>\n      <td>-0.848584</td>\n      <td>2.657796</td>\n      <td>-2.327419</td>\n      <td>0.606161</td>\n      <td>-0.487402</td>\n      <td>0.261275</td>\n    </tr>\n  </tbody>\n</table>\n<p>5 rows × 55 columns</p>\n</div>"
     },
     "execution_count": 8,
     "metadata": {},
     "output_type": "execute_result"
    }
   ],
   "source": [
    "train.head()"
   ]
  },
  {
   "cell_type": "code",
   "source": [
    "test.head()"
   ],
   "metadata": {
    "colab": {
     "base_uri": "https://localhost:8080/",
     "height": 270
    },
    "id": "kf31uWK-5yPp",
    "outputId": "92a12cb1-a40b-4558-fe7a-642a7c0f3aa8"
   },
   "execution_count": 9,
   "outputs": [
    {
     "data": {
      "text/plain": "        id  vas_id    buy_time  252  component_0  component_1  component_2  \\\n0  2905850     5.0  1546808400  0.0    -2.108865     2.008964    -0.680932   \n1    31619     2.0  1546808400  0.0     0.187221    -0.783811     1.446463   \n2  1427271     6.0  1546808400  0.0    -3.459512     2.924535    -1.996942   \n3  2162521     6.0  1546808400  0.0    -0.421286    -1.363834     1.143938   \n4  1529304     6.0  1546808400  1.0    -4.070811    -1.120186     1.827899   \n\n   component_3  component_4  component_5  ...  component_40  component_41  \\\n0    -0.645873    -0.252169     0.058302  ...     -0.582579      0.332824   \n1    -0.970002     0.073032    -0.281519  ...     -0.774290      0.718145   \n2     1.149771     0.273366    -1.354597  ...      0.241564      1.047118   \n3    -1.366164     0.200698    -0.374600  ...      0.315521      0.168451   \n4     0.396192    -0.248577     0.608398  ...      0.395898     -0.747956   \n\n   component_42  component_43  component_44  component_45  component_46  \\\n0     -0.258431     -0.570570     -0.481163     -0.818266      1.374948   \n1     -0.916015      0.629134      0.800355     -0.203236      0.084248   \n2      1.576573     -1.005940      0.940569     -1.116288     -0.873351   \n3      0.166489     -0.734784     -0.499309     -0.123867      0.424443   \n4     -1.003190      1.532903      1.056886      0.202940      0.059298   \n\n   component_47  component_48  component_49  \n0     -0.097509      0.395715      0.105542  \n1      0.179651      0.163358      0.593177  \n2      0.800971      0.145993      1.473983  \n3      0.042869     -0.159201     -0.530986  \n4     -0.193865      0.658619      0.539136  \n\n[5 rows x 54 columns]",
      "text/html": "<div>\n<style scoped>\n    .dataframe tbody tr th:only-of-type {\n        vertical-align: middle;\n    }\n\n    .dataframe tbody tr th {\n        vertical-align: top;\n    }\n\n    .dataframe thead th {\n        text-align: right;\n    }\n</style>\n<table border=\"1\" class=\"dataframe\">\n  <thead>\n    <tr style=\"text-align: right;\">\n      <th></th>\n      <th>id</th>\n      <th>vas_id</th>\n      <th>buy_time</th>\n      <th>252</th>\n      <th>component_0</th>\n      <th>component_1</th>\n      <th>component_2</th>\n      <th>component_3</th>\n      <th>component_4</th>\n      <th>component_5</th>\n      <th>...</th>\n      <th>component_40</th>\n      <th>component_41</th>\n      <th>component_42</th>\n      <th>component_43</th>\n      <th>component_44</th>\n      <th>component_45</th>\n      <th>component_46</th>\n      <th>component_47</th>\n      <th>component_48</th>\n      <th>component_49</th>\n    </tr>\n  </thead>\n  <tbody>\n    <tr>\n      <th>0</th>\n      <td>2905850</td>\n      <td>5.0</td>\n      <td>1546808400</td>\n      <td>0.0</td>\n      <td>-2.108865</td>\n      <td>2.008964</td>\n      <td>-0.680932</td>\n      <td>-0.645873</td>\n      <td>-0.252169</td>\n      <td>0.058302</td>\n      <td>...</td>\n      <td>-0.582579</td>\n      <td>0.332824</td>\n      <td>-0.258431</td>\n      <td>-0.570570</td>\n      <td>-0.481163</td>\n      <td>-0.818266</td>\n      <td>1.374948</td>\n      <td>-0.097509</td>\n      <td>0.395715</td>\n      <td>0.105542</td>\n    </tr>\n    <tr>\n      <th>1</th>\n      <td>31619</td>\n      <td>2.0</td>\n      <td>1546808400</td>\n      <td>0.0</td>\n      <td>0.187221</td>\n      <td>-0.783811</td>\n      <td>1.446463</td>\n      <td>-0.970002</td>\n      <td>0.073032</td>\n      <td>-0.281519</td>\n      <td>...</td>\n      <td>-0.774290</td>\n      <td>0.718145</td>\n      <td>-0.916015</td>\n      <td>0.629134</td>\n      <td>0.800355</td>\n      <td>-0.203236</td>\n      <td>0.084248</td>\n      <td>0.179651</td>\n      <td>0.163358</td>\n      <td>0.593177</td>\n    </tr>\n    <tr>\n      <th>2</th>\n      <td>1427271</td>\n      <td>6.0</td>\n      <td>1546808400</td>\n      <td>0.0</td>\n      <td>-3.459512</td>\n      <td>2.924535</td>\n      <td>-1.996942</td>\n      <td>1.149771</td>\n      <td>0.273366</td>\n      <td>-1.354597</td>\n      <td>...</td>\n      <td>0.241564</td>\n      <td>1.047118</td>\n      <td>1.576573</td>\n      <td>-1.005940</td>\n      <td>0.940569</td>\n      <td>-1.116288</td>\n      <td>-0.873351</td>\n      <td>0.800971</td>\n      <td>0.145993</td>\n      <td>1.473983</td>\n    </tr>\n    <tr>\n      <th>3</th>\n      <td>2162521</td>\n      <td>6.0</td>\n      <td>1546808400</td>\n      <td>0.0</td>\n      <td>-0.421286</td>\n      <td>-1.363834</td>\n      <td>1.143938</td>\n      <td>-1.366164</td>\n      <td>0.200698</td>\n      <td>-0.374600</td>\n      <td>...</td>\n      <td>0.315521</td>\n      <td>0.168451</td>\n      <td>0.166489</td>\n      <td>-0.734784</td>\n      <td>-0.499309</td>\n      <td>-0.123867</td>\n      <td>0.424443</td>\n      <td>0.042869</td>\n      <td>-0.159201</td>\n      <td>-0.530986</td>\n    </tr>\n    <tr>\n      <th>4</th>\n      <td>1529304</td>\n      <td>6.0</td>\n      <td>1546808400</td>\n      <td>1.0</td>\n      <td>-4.070811</td>\n      <td>-1.120186</td>\n      <td>1.827899</td>\n      <td>0.396192</td>\n      <td>-0.248577</td>\n      <td>0.608398</td>\n      <td>...</td>\n      <td>0.395898</td>\n      <td>-0.747956</td>\n      <td>-1.003190</td>\n      <td>1.532903</td>\n      <td>1.056886</td>\n      <td>0.202940</td>\n      <td>0.059298</td>\n      <td>-0.193865</td>\n      <td>0.658619</td>\n      <td>0.539136</td>\n    </tr>\n  </tbody>\n</table>\n<p>5 rows × 54 columns</p>\n</div>"
     },
     "execution_count": 9,
     "metadata": {},
     "output_type": "execute_result"
    }
   ]
  },
  {
   "cell_type": "code",
   "execution_count": 10,
   "metadata": {
    "colab": {
     "base_uri": "https://localhost:8080/",
     "height": 364
    },
    "id": "3e4HK26GQUtm",
    "outputId": "6c2c9dd8-df38-4f43-de78-3ab2eb4876b3"
   },
   "outputs": [
    {
     "data": {
      "text/plain": "                 id         vas_id      buy_time         target  \\\ncount  8.316530e+05  831653.000000  8.316530e+05  831653.000000   \nmean   2.158304e+06       2.686185  1.538937e+09       0.072369   \nstd    1.257907e+06       1.952034  5.019053e+06       0.259098   \nmin    2.000000e+00       1.000000  1.531084e+09       0.000000   \n25%    1.067319e+06       1.000000  1.534108e+09       0.000000   \n50%    2.144574e+06       2.000000  1.538341e+09       0.000000   \n75%    3.244254e+06       4.000000  1.544389e+09       0.000000   \nmax    4.362694e+06       9.000000  1.546204e+09       1.000000   \n\n                 252   component_0    component_1    component_2  \\\ncount  831653.000000  8.316530e+05  831653.000000  831653.000000   \nmean        0.258348 -2.973488e-07      -0.000002      -0.000003   \nstd         2.095543  4.168477e+00       3.196697       2.754510   \nmin         0.000000 -1.883192e+01     -21.062065    -280.728360   \n25%         0.000000 -2.851814e+00      -1.138848      -0.434562   \n50%         0.000000 -4.483528e-01      -0.519214       0.651869   \n75%         1.000000  2.032402e+00       0.652993       1.321839   \nmax      1743.000000  3.033259e+02    2092.024000     746.168150   \n\n        component_3    component_4  ...   component_40   component_41  \\\ncount  8.316530e+05  831653.000000  ...  831653.000000  831653.000000   \nmean  -7.521257e-07       0.000002  ...      -0.000006       0.000002   \nstd    2.608547e+00       2.401133  ...       1.257200       1.240602   \nmin   -3.856438e+02    -436.865900  ...    -153.830750    -134.932510   \n25%   -9.634501e-01      -0.327457  ...      -0.354765      -0.324709   \n50%   -2.572167e-01      -0.115142  ...       0.003911      -0.020796   \n75%    4.507245e-01       0.145756  ...       0.383934       0.345321   \nmax    3.915152e+02     924.048460  ...     220.645160     207.463320   \n\n        component_42  component_43   component_44   component_45  \\\ncount  831653.000000  8.316530e+05  831653.000000  831653.000000   \nmean        0.000003 -5.026830e-07      -0.000003      -0.000002   \nstd         1.232778  1.214146e+00       1.186233       1.182909   \nmin       -92.144970 -8.327443e+01     -97.050280     -69.493126   \n25%        -0.538845 -5.906512e-01      -0.343207      -0.552736   \n50%        -0.068741 -5.544307e-02       0.028555      -0.051392   \n75%         0.398251  4.743933e-01       0.386430       0.476041   \nmax       173.070720  1.289207e+02     200.538480     148.055570   \n\n        component_46  component_47   component_48   component_49  \ncount  831653.000000  8.316530e+05  831653.000000  831653.000000  \nmean        0.000001 -7.364982e-08       0.000002      -0.000002  \nstd         1.161123  1.155322e+00       1.144133       1.128467  \nmin       -85.852130 -1.893339e+02    -175.377000    -112.403180  \n25%        -0.523569 -1.919642e-01      -0.292515      -0.416239  \n50%        -0.014462  1.442842e-02      -0.056206      -0.036581  \n75%         0.535573  2.207931e-01       0.224288       0.384766  \nmax       188.066570  2.635291e+02     219.694900     147.582720  \n\n[8 rows x 55 columns]",
      "text/html": "<div>\n<style scoped>\n    .dataframe tbody tr th:only-of-type {\n        vertical-align: middle;\n    }\n\n    .dataframe tbody tr th {\n        vertical-align: top;\n    }\n\n    .dataframe thead th {\n        text-align: right;\n    }\n</style>\n<table border=\"1\" class=\"dataframe\">\n  <thead>\n    <tr style=\"text-align: right;\">\n      <th></th>\n      <th>id</th>\n      <th>vas_id</th>\n      <th>buy_time</th>\n      <th>target</th>\n      <th>252</th>\n      <th>component_0</th>\n      <th>component_1</th>\n      <th>component_2</th>\n      <th>component_3</th>\n      <th>component_4</th>\n      <th>...</th>\n      <th>component_40</th>\n      <th>component_41</th>\n      <th>component_42</th>\n      <th>component_43</th>\n      <th>component_44</th>\n      <th>component_45</th>\n      <th>component_46</th>\n      <th>component_47</th>\n      <th>component_48</th>\n      <th>component_49</th>\n    </tr>\n  </thead>\n  <tbody>\n    <tr>\n      <th>count</th>\n      <td>8.316530e+05</td>\n      <td>831653.000000</td>\n      <td>8.316530e+05</td>\n      <td>831653.000000</td>\n      <td>831653.000000</td>\n      <td>8.316530e+05</td>\n      <td>831653.000000</td>\n      <td>831653.000000</td>\n      <td>8.316530e+05</td>\n      <td>831653.000000</td>\n      <td>...</td>\n      <td>831653.000000</td>\n      <td>831653.000000</td>\n      <td>831653.000000</td>\n      <td>8.316530e+05</td>\n      <td>831653.000000</td>\n      <td>831653.000000</td>\n      <td>831653.000000</td>\n      <td>8.316530e+05</td>\n      <td>831653.000000</td>\n      <td>831653.000000</td>\n    </tr>\n    <tr>\n      <th>mean</th>\n      <td>2.158304e+06</td>\n      <td>2.686185</td>\n      <td>1.538937e+09</td>\n      <td>0.072369</td>\n      <td>0.258348</td>\n      <td>-2.973488e-07</td>\n      <td>-0.000002</td>\n      <td>-0.000003</td>\n      <td>-7.521257e-07</td>\n      <td>0.000002</td>\n      <td>...</td>\n      <td>-0.000006</td>\n      <td>0.000002</td>\n      <td>0.000003</td>\n      <td>-5.026830e-07</td>\n      <td>-0.000003</td>\n      <td>-0.000002</td>\n      <td>0.000001</td>\n      <td>-7.364982e-08</td>\n      <td>0.000002</td>\n      <td>-0.000002</td>\n    </tr>\n    <tr>\n      <th>std</th>\n      <td>1.257907e+06</td>\n      <td>1.952034</td>\n      <td>5.019053e+06</td>\n      <td>0.259098</td>\n      <td>2.095543</td>\n      <td>4.168477e+00</td>\n      <td>3.196697</td>\n      <td>2.754510</td>\n      <td>2.608547e+00</td>\n      <td>2.401133</td>\n      <td>...</td>\n      <td>1.257200</td>\n      <td>1.240602</td>\n      <td>1.232778</td>\n      <td>1.214146e+00</td>\n      <td>1.186233</td>\n      <td>1.182909</td>\n      <td>1.161123</td>\n      <td>1.155322e+00</td>\n      <td>1.144133</td>\n      <td>1.128467</td>\n    </tr>\n    <tr>\n      <th>min</th>\n      <td>2.000000e+00</td>\n      <td>1.000000</td>\n      <td>1.531084e+09</td>\n      <td>0.000000</td>\n      <td>0.000000</td>\n      <td>-1.883192e+01</td>\n      <td>-21.062065</td>\n      <td>-280.728360</td>\n      <td>-3.856438e+02</td>\n      <td>-436.865900</td>\n      <td>...</td>\n      <td>-153.830750</td>\n      <td>-134.932510</td>\n      <td>-92.144970</td>\n      <td>-8.327443e+01</td>\n      <td>-97.050280</td>\n      <td>-69.493126</td>\n      <td>-85.852130</td>\n      <td>-1.893339e+02</td>\n      <td>-175.377000</td>\n      <td>-112.403180</td>\n    </tr>\n    <tr>\n      <th>25%</th>\n      <td>1.067319e+06</td>\n      <td>1.000000</td>\n      <td>1.534108e+09</td>\n      <td>0.000000</td>\n      <td>0.000000</td>\n      <td>-2.851814e+00</td>\n      <td>-1.138848</td>\n      <td>-0.434562</td>\n      <td>-9.634501e-01</td>\n      <td>-0.327457</td>\n      <td>...</td>\n      <td>-0.354765</td>\n      <td>-0.324709</td>\n      <td>-0.538845</td>\n      <td>-5.906512e-01</td>\n      <td>-0.343207</td>\n      <td>-0.552736</td>\n      <td>-0.523569</td>\n      <td>-1.919642e-01</td>\n      <td>-0.292515</td>\n      <td>-0.416239</td>\n    </tr>\n    <tr>\n      <th>50%</th>\n      <td>2.144574e+06</td>\n      <td>2.000000</td>\n      <td>1.538341e+09</td>\n      <td>0.000000</td>\n      <td>0.000000</td>\n      <td>-4.483528e-01</td>\n      <td>-0.519214</td>\n      <td>0.651869</td>\n      <td>-2.572167e-01</td>\n      <td>-0.115142</td>\n      <td>...</td>\n      <td>0.003911</td>\n      <td>-0.020796</td>\n      <td>-0.068741</td>\n      <td>-5.544307e-02</td>\n      <td>0.028555</td>\n      <td>-0.051392</td>\n      <td>-0.014462</td>\n      <td>1.442842e-02</td>\n      <td>-0.056206</td>\n      <td>-0.036581</td>\n    </tr>\n    <tr>\n      <th>75%</th>\n      <td>3.244254e+06</td>\n      <td>4.000000</td>\n      <td>1.544389e+09</td>\n      <td>0.000000</td>\n      <td>1.000000</td>\n      <td>2.032402e+00</td>\n      <td>0.652993</td>\n      <td>1.321839</td>\n      <td>4.507245e-01</td>\n      <td>0.145756</td>\n      <td>...</td>\n      <td>0.383934</td>\n      <td>0.345321</td>\n      <td>0.398251</td>\n      <td>4.743933e-01</td>\n      <td>0.386430</td>\n      <td>0.476041</td>\n      <td>0.535573</td>\n      <td>2.207931e-01</td>\n      <td>0.224288</td>\n      <td>0.384766</td>\n    </tr>\n    <tr>\n      <th>max</th>\n      <td>4.362694e+06</td>\n      <td>9.000000</td>\n      <td>1.546204e+09</td>\n      <td>1.000000</td>\n      <td>1743.000000</td>\n      <td>3.033259e+02</td>\n      <td>2092.024000</td>\n      <td>746.168150</td>\n      <td>3.915152e+02</td>\n      <td>924.048460</td>\n      <td>...</td>\n      <td>220.645160</td>\n      <td>207.463320</td>\n      <td>173.070720</td>\n      <td>1.289207e+02</td>\n      <td>200.538480</td>\n      <td>148.055570</td>\n      <td>188.066570</td>\n      <td>2.635291e+02</td>\n      <td>219.694900</td>\n      <td>147.582720</td>\n    </tr>\n  </tbody>\n</table>\n<p>8 rows × 55 columns</p>\n</div>"
     },
     "execution_count": 10,
     "metadata": {},
     "output_type": "execute_result"
    }
   ],
   "source": [
    "train.describe()"
   ]
  },
  {
   "cell_type": "code",
   "execution_count": 11,
   "metadata": {
    "colab": {
     "base_uri": "https://localhost:8080/"
    },
    "id": "emNRNkcoULDA",
    "outputId": "0daf9305-a6f0-4876-91d4-f9dd2999799c"
   },
   "outputs": [
    {
     "data": {
      "text/plain": "0.0    0.927631\n1.0    0.072369\nName: target, dtype: float64"
     },
     "execution_count": 11,
     "metadata": {},
     "output_type": "execute_result"
    }
   ],
   "source": [
    "train.target.value_counts(normalize=True)"
   ]
  },
  {
   "cell_type": "code",
   "execution_count": 12,
   "metadata": {
    "colab": {
     "base_uri": "https://localhost:8080/",
     "height": 270
    },
    "id": "6eTIqbZJ0ct6",
    "outputId": "0f02bf6f-fb25-4564-de0f-d90207fc030e"
   },
   "outputs": [
    {
     "data": {
      "text/plain": "        id  vas_id    buy_time  252  component_0  component_1  component_2  \\\n0  2905850     5.0  1546808400  0.0    -2.108865     2.008964    -0.680932   \n1    31619     2.0  1546808400  0.0     0.187221    -0.783811     1.446463   \n2  1427271     6.0  1546808400  0.0    -3.459512     2.924535    -1.996942   \n3  2162521     6.0  1546808400  0.0    -0.421286    -1.363834     1.143938   \n4  1529304     6.0  1546808400  1.0    -4.070811    -1.120186     1.827899   \n\n   component_3  component_4  component_5  ...  component_40  component_41  \\\n0    -0.645873    -0.252169     0.058302  ...     -0.582579      0.332824   \n1    -0.970002     0.073032    -0.281519  ...     -0.774290      0.718145   \n2     1.149771     0.273366    -1.354597  ...      0.241564      1.047118   \n3    -1.366164     0.200698    -0.374600  ...      0.315521      0.168451   \n4     0.396192    -0.248577     0.608398  ...      0.395898     -0.747956   \n\n   component_42  component_43  component_44  component_45  component_46  \\\n0     -0.258431     -0.570570     -0.481163     -0.818266      1.374948   \n1     -0.916015      0.629134      0.800355     -0.203236      0.084248   \n2      1.576573     -1.005940      0.940569     -1.116288     -0.873351   \n3      0.166489     -0.734784     -0.499309     -0.123867      0.424443   \n4     -1.003190      1.532903      1.056886      0.202940      0.059298   \n\n   component_47  component_48  component_49  \n0     -0.097509      0.395715      0.105542  \n1      0.179651      0.163358      0.593177  \n2      0.800971      0.145993      1.473983  \n3      0.042869     -0.159201     -0.530986  \n4     -0.193865      0.658619      0.539136  \n\n[5 rows x 54 columns]",
      "text/html": "<div>\n<style scoped>\n    .dataframe tbody tr th:only-of-type {\n        vertical-align: middle;\n    }\n\n    .dataframe tbody tr th {\n        vertical-align: top;\n    }\n\n    .dataframe thead th {\n        text-align: right;\n    }\n</style>\n<table border=\"1\" class=\"dataframe\">\n  <thead>\n    <tr style=\"text-align: right;\">\n      <th></th>\n      <th>id</th>\n      <th>vas_id</th>\n      <th>buy_time</th>\n      <th>252</th>\n      <th>component_0</th>\n      <th>component_1</th>\n      <th>component_2</th>\n      <th>component_3</th>\n      <th>component_4</th>\n      <th>component_5</th>\n      <th>...</th>\n      <th>component_40</th>\n      <th>component_41</th>\n      <th>component_42</th>\n      <th>component_43</th>\n      <th>component_44</th>\n      <th>component_45</th>\n      <th>component_46</th>\n      <th>component_47</th>\n      <th>component_48</th>\n      <th>component_49</th>\n    </tr>\n  </thead>\n  <tbody>\n    <tr>\n      <th>0</th>\n      <td>2905850</td>\n      <td>5.0</td>\n      <td>1546808400</td>\n      <td>0.0</td>\n      <td>-2.108865</td>\n      <td>2.008964</td>\n      <td>-0.680932</td>\n      <td>-0.645873</td>\n      <td>-0.252169</td>\n      <td>0.058302</td>\n      <td>...</td>\n      <td>-0.582579</td>\n      <td>0.332824</td>\n      <td>-0.258431</td>\n      <td>-0.570570</td>\n      <td>-0.481163</td>\n      <td>-0.818266</td>\n      <td>1.374948</td>\n      <td>-0.097509</td>\n      <td>0.395715</td>\n      <td>0.105542</td>\n    </tr>\n    <tr>\n      <th>1</th>\n      <td>31619</td>\n      <td>2.0</td>\n      <td>1546808400</td>\n      <td>0.0</td>\n      <td>0.187221</td>\n      <td>-0.783811</td>\n      <td>1.446463</td>\n      <td>-0.970002</td>\n      <td>0.073032</td>\n      <td>-0.281519</td>\n      <td>...</td>\n      <td>-0.774290</td>\n      <td>0.718145</td>\n      <td>-0.916015</td>\n      <td>0.629134</td>\n      <td>0.800355</td>\n      <td>-0.203236</td>\n      <td>0.084248</td>\n      <td>0.179651</td>\n      <td>0.163358</td>\n      <td>0.593177</td>\n    </tr>\n    <tr>\n      <th>2</th>\n      <td>1427271</td>\n      <td>6.0</td>\n      <td>1546808400</td>\n      <td>0.0</td>\n      <td>-3.459512</td>\n      <td>2.924535</td>\n      <td>-1.996942</td>\n      <td>1.149771</td>\n      <td>0.273366</td>\n      <td>-1.354597</td>\n      <td>...</td>\n      <td>0.241564</td>\n      <td>1.047118</td>\n      <td>1.576573</td>\n      <td>-1.005940</td>\n      <td>0.940569</td>\n      <td>-1.116288</td>\n      <td>-0.873351</td>\n      <td>0.800971</td>\n      <td>0.145993</td>\n      <td>1.473983</td>\n    </tr>\n    <tr>\n      <th>3</th>\n      <td>2162521</td>\n      <td>6.0</td>\n      <td>1546808400</td>\n      <td>0.0</td>\n      <td>-0.421286</td>\n      <td>-1.363834</td>\n      <td>1.143938</td>\n      <td>-1.366164</td>\n      <td>0.200698</td>\n      <td>-0.374600</td>\n      <td>...</td>\n      <td>0.315521</td>\n      <td>0.168451</td>\n      <td>0.166489</td>\n      <td>-0.734784</td>\n      <td>-0.499309</td>\n      <td>-0.123867</td>\n      <td>0.424443</td>\n      <td>0.042869</td>\n      <td>-0.159201</td>\n      <td>-0.530986</td>\n    </tr>\n    <tr>\n      <th>4</th>\n      <td>1529304</td>\n      <td>6.0</td>\n      <td>1546808400</td>\n      <td>1.0</td>\n      <td>-4.070811</td>\n      <td>-1.120186</td>\n      <td>1.827899</td>\n      <td>0.396192</td>\n      <td>-0.248577</td>\n      <td>0.608398</td>\n      <td>...</td>\n      <td>0.395898</td>\n      <td>-0.747956</td>\n      <td>-1.003190</td>\n      <td>1.532903</td>\n      <td>1.056886</td>\n      <td>0.202940</td>\n      <td>0.059298</td>\n      <td>-0.193865</td>\n      <td>0.658619</td>\n      <td>0.539136</td>\n    </tr>\n  </tbody>\n</table>\n<p>5 rows × 54 columns</p>\n</div>"
     },
     "execution_count": 12,
     "metadata": {},
     "output_type": "execute_result"
    }
   ],
   "source": [
    "test.head()"
   ]
  },
  {
   "cell_type": "code",
   "execution_count": 13,
   "metadata": {
    "colab": {
     "base_uri": "https://localhost:8080/",
     "height": 513
    },
    "id": "yiPKwgg8RLbP",
    "outputId": "1900a714-2027-43ff-b79f-d5b821615750"
   },
   "outputs": [
    {
     "data": {
      "text/plain": "<Figure size 1008x576 with 1 Axes>",
      "image/png": "[encoded data removed]"
     },
     "metadata": {
      "needs_background": "light"
     },
     "output_type": "display_data"
    }
   ],
   "source": [
    "plt.figure(figsize=(14, 8))\n",
    "\n",
    "vas_ids_1 = train.loc[train.target==1].vas_id.value_counts().sort_values()\n",
    "vas_ids_0 = train.loc[train.target==0].vas_id.value_counts().sort_values()\n",
    "\n",
    "plt.bar(vas_ids_0.index, vas_ids_0.values, label='0', )\n",
    "plt.bar(vas_ids_1.index, vas_ids_1.values, label='1')\n",
    "\n",
    "plt.title('Target in each vas_id')\n",
    "plt.xlabel('Values')\n",
    "plt.ylabel('Value_counts')\n",
    "plt.legend()\n",
    "plt.show()"
   ]
  },
  {
   "cell_type": "markdown",
   "source": [
    "### Работа с временным признаком\n",
    "\n",
    "Переконвертируем колонку в привычный формат даты, чтобы было удобно с ней работать. Из колонки создадим признаки и по ним посмотрим на распределение целевой переменной"
   ],
   "metadata": {
    "id": "sw1Pt6xDAIAQ"
   }
  },
  {
   "cell_type": "code",
   "execution_count": 14,
   "metadata": {
    "colab": {
     "base_uri": "https://localhost:8080/",
     "height": 162
    },
    "id": "L4PnPRLmT2Xm",
    "outputId": "43ad34e2-5378-4b67-d8ba-8373ec09ae8a"
   },
   "outputs": [
    {
     "data": {
      "text/plain": "            id  vas_id            buy_time  252  component_0  component_1  \\\n63909  1300655     4.0 2019-01-20 21:00:00  0.0     7.740596    -2.349941   \n\n       component_2  component_3  component_4  component_5  ...  component_40  \\\n63909     1.526961    -1.627545     0.271978    -1.282202  ...     -0.101011   \n\n       component_41  component_42  component_43  component_44  component_45  \\\n63909      1.266119     -0.574156      0.617152      0.612842     -0.142437   \n\n       component_46  component_47  component_48  component_49  \n63909      0.686235     -0.048606      1.249401        1.4746  \n\n[1 rows x 54 columns]",
      "text/html": "<div>\n<style scoped>\n    .dataframe tbody tr th:only-of-type {\n        vertical-align: middle;\n    }\n\n    .dataframe tbody tr th {\n        vertical-align: top;\n    }\n\n    .dataframe thead th {\n        text-align: right;\n    }\n</style>\n<table border=\"1\" class=\"dataframe\">\n  <thead>\n    <tr style=\"text-align: right;\">\n      <th></th>\n      <th>id</th>\n      <th>vas_id</th>\n      <th>buy_time</th>\n      <th>252</th>\n      <th>component_0</th>\n      <th>component_1</th>\n      <th>component_2</th>\n      <th>component_3</th>\n      <th>component_4</th>\n      <th>component_5</th>\n      <th>...</th>\n      <th>component_40</th>\n      <th>component_41</th>\n      <th>component_42</th>\n      <th>component_43</th>\n      <th>component_44</th>\n      <th>component_45</th>\n      <th>component_46</th>\n      <th>component_47</th>\n      <th>component_48</th>\n      <th>component_49</th>\n    </tr>\n  </thead>\n  <tbody>\n    <tr>\n      <th>63909</th>\n      <td>1300655</td>\n      <td>4.0</td>\n      <td>2019-01-20 21:00:00</td>\n      <td>0.0</td>\n      <td>7.740596</td>\n      <td>-2.349941</td>\n      <td>1.526961</td>\n      <td>-1.627545</td>\n      <td>0.271978</td>\n      <td>-1.282202</td>\n      <td>...</td>\n      <td>-0.101011</td>\n      <td>1.266119</td>\n      <td>-0.574156</td>\n      <td>0.617152</td>\n      <td>0.612842</td>\n      <td>-0.142437</td>\n      <td>0.686235</td>\n      <td>-0.048606</td>\n      <td>1.249401</td>\n      <td>1.4746</td>\n    </tr>\n  </tbody>\n</table>\n<p>1 rows × 54 columns</p>\n</div>"
     },
     "execution_count": 14,
     "metadata": {},
     "output_type": "execute_result"
    }
   ],
   "source": [
    "train['buy_time'] = pd.to_datetime(train['buy_time'], unit='s')\n",
    "test['buy_time'] = pd.to_datetime(test['buy_time'], unit='s')\n",
    "test.sample()"
   ]
  },
  {
   "cell_type": "code",
   "execution_count": 15,
   "metadata": {
    "colab": {
     "base_uri": "https://localhost:8080/"
    },
    "id": "dpUTIVavVio1",
    "outputId": "a15ea7d9-6f31-4a2e-a044-5c1cec3a64e8"
   },
   "outputs": [
    {
     "data": {
      "text/plain": "array([2018])"
     },
     "execution_count": 15,
     "metadata": {},
     "output_type": "execute_result"
    }
   ],
   "source": [
    "pd.DatetimeIndex(train['buy_time']).year.unique().values"
   ]
  },
  {
   "cell_type": "code",
   "execution_count": 16,
   "metadata": {
    "colab": {
     "base_uri": "https://localhost:8080/"
    },
    "id": "xJ8A66rFUgC7",
    "outputId": "8c7e0236-8f1d-420f-eacf-6f9d0ad39e75"
   },
   "outputs": [
    {
     "name": "stdout",
     "output_type": "stream",
     "text": [
      "Год (train): [2018]\n",
      "Год (test): [2019]\n",
      "Час (train): [21]\n",
      "Час (test): [21]\n"
     ]
    }
   ],
   "source": [
    "# Посмотрим на количество уникальных значений года и часа\n",
    "print(f\"Год (train): {pd.DatetimeIndex(train['buy_time']).year.unique().values}\", \n",
    "      f\"Год (test): {pd.DatetimeIndex(test['buy_time']).year.unique().values}\", \n",
    "      f\"Час (train): {pd.DatetimeIndex(train['buy_time']).hour.unique().values}\", \n",
    "      f\"Час (test): {pd.DatetimeIndex(test['buy_time']).hour.unique().values}\", sep='\\n')\n"
   ]
  },
  {
   "cell_type": "markdown",
   "metadata": {
    "id": "aJ-W54NhV-mY"
   },
   "source": [
    "Видно, что наблюдения в обеих выборках принимают только одно значение, по-этому эти столбцы не дадут никакой информации для модели. Создадим колонки месяц и день и проанализируем значения"
   ]
  },
  {
   "cell_type": "code",
   "execution_count": 17,
   "metadata": {
    "id": "bpw6qCyaWknq"
   },
   "outputs": [],
   "source": [
    "train['month'] = pd.DatetimeIndex(train['buy_time']).month\n",
    "test['month'] = pd.DatetimeIndex(test['buy_time']).month\n",
    "\n",
    "train['day'] = pd.DatetimeIndex(train['buy_time']).day\n",
    "test['day'] = pd.DatetimeIndex(test['buy_time']).day"
   ]
  },
  {
   "cell_type": "code",
   "execution_count": 18,
   "metadata": {
    "colab": {
     "base_uri": "https://localhost:8080/",
     "height": 513
    },
    "id": "h6LP1PLQ0ct7",
    "outputId": "45a33784-f491-46b0-e720-2b6203158843"
   },
   "outputs": [
    {
     "data": {
      "text/plain": "<Figure size 1008x576 with 1 Axes>",
      "image/png": "[encoded data removed]"
     },
     "metadata": {
      "needs_background": "light"
     },
     "output_type": "display_data"
    }
   ],
   "source": [
    "plt.figure(figsize=(14, 8))\n",
    "\n",
    "months_1 = train.loc[train.target==1].month.value_counts().sort_values()\n",
    "months_0 = train.loc[train.target==0].month.value_counts().sort_values()\n",
    "\n",
    "plt.bar(months_0.index, months_0.values, label='0')\n",
    "plt.bar(months_1.index, months_1.values, label='1')\n",
    "\n",
    "plt.title('Target in each month')\n",
    "plt.xlabel('Values')\n",
    "plt.ylabel('Value_counts')\n",
    "plt.legend()\n",
    "plt.show()"
   ]
  },
  {
   "cell_type": "code",
   "execution_count": 19,
   "metadata": {
    "colab": {
     "base_uri": "https://localhost:8080/"
    },
    "id": "vTRWbmhf0ct8",
    "outputId": "18faad63-7c8e-4f68-e7d0-301948428ab4"
   },
   "outputs": [
    {
     "name": "stdout",
     "output_type": "stream",
     "text": [
      "For month # 7\n",
      "0.0    0.965906\n",
      "1.0    0.034094\n",
      "Name: target, dtype: float64\n",
      "For month # 8\n",
      "0.0    0.971949\n",
      "1.0    0.028051\n",
      "Name: target, dtype: float64\n",
      "For month # 9\n",
      "0.0    0.969003\n",
      "1.0    0.030997\n",
      "Name: target, dtype: float64\n",
      "For month # 10\n",
      "0.0    0.950052\n",
      "1.0    0.049948\n",
      "Name: target, dtype: float64\n",
      "For month # 11\n",
      "0.0    0.721382\n",
      "1.0    0.278618\n",
      "Name: target, dtype: float64\n",
      "For month # 12\n",
      "0.0    0.910324\n",
      "1.0    0.089676\n",
      "Name: target, dtype: float64\n"
     ]
    }
   ],
   "source": [
    "for month in train.month.unique():\n",
    "  print(f'For month # {month}')\n",
    "  print(train.loc[train.month==month].target.value_counts(normalize=True))"
   ]
  },
  {
   "cell_type": "markdown",
   "metadata": {
    "id": "vVX9dTOZ0ct8"
   },
   "source": [
    "Видно, что во всех месяцах, кроме 11 вероятность появления целевого класса  более-менее похожа. Посмотрим, как распределен таргет по дням"
   ]
  },
  {
   "cell_type": "code",
   "execution_count": 20,
   "metadata": {
    "colab": {
     "base_uri": "https://localhost:8080/",
     "height": 513
    },
    "id": "Ozok58e20ct9",
    "outputId": "6cca5532-7701-4897-9b3c-9712492cfb37"
   },
   "outputs": [
    {
     "data": {
      "text/plain": "<Figure size 1008x576 with 1 Axes>",
      "image/png": "[encoded data removed]"
     },
     "metadata": {
      "needs_background": "light"
     },
     "output_type": "display_data"
    }
   ],
   "source": [
    "plt.figure(figsize=(14, 8))\n",
    "\n",
    "days_1 = train.loc[train.target==1].day.value_counts().sort_values()\n",
    "days_0 = train.loc[train.target==0].day.value_counts().sort_values()\n",
    "\n",
    "plt.bar(days_0.index, days_0.values, label='0', )\n",
    "plt.bar(days_1.index, days_1.values, label='1')\n",
    "\n",
    "plt.title('Target in each month')\n",
    "plt.xlabel('Values')\n",
    "plt.ylabel('Value_counts')\n",
    "plt.legend()\n",
    "plt.show()"
   ]
  },
  {
   "cell_type": "code",
   "execution_count": 21,
   "metadata": {
    "colab": {
     "base_uri": "https://localhost:8080/"
    },
    "id": "LKhQ3hkW0ct9",
    "outputId": "e59eeeae-3317-440a-fe58-43915f769ee7"
   },
   "outputs": [
    {
     "data": {
      "text/plain": "1.0    15418\n0.0     7497\nName: target, dtype: int64"
     },
     "execution_count": 21,
     "metadata": {},
     "output_type": "execute_result"
    }
   ],
   "source": [
    "train.loc[train.day==18].target.value_counts()"
   ]
  },
  {
   "cell_type": "code",
   "execution_count": 22,
   "metadata": {
    "colab": {
     "base_uri": "https://localhost:8080/",
     "height": 113
    },
    "id": "qy6gEcGv0ct-",
    "outputId": "d57c7abe-1937-4636-ce6d-d53a3be1258c"
   },
   "outputs": [
    {
     "data": {
      "text/plain": "Empty DataFrame\nColumns: [id, vas_id, buy_time, 252, component_0, component_1, component_2, component_3, component_4, component_5, component_6, component_7, component_8, component_9, component_10, component_11, component_12, component_13, component_14, component_15, component_16, component_17, component_18, component_19, component_20, component_21, component_22, component_23, component_24, component_25, component_26, component_27, component_28, component_29, component_30, component_31, component_32, component_33, component_34, component_35, component_36, component_37, component_38, component_39, component_40, component_41, component_42, component_43, component_44, component_45, component_46, component_47, component_48, component_49, month, day]\nIndex: []\n\n[0 rows x 56 columns]",
      "text/html": "<div>\n<style scoped>\n    .dataframe tbody tr th:only-of-type {\n        vertical-align: middle;\n    }\n\n    .dataframe tbody tr th {\n        vertical-align: top;\n    }\n\n    .dataframe thead th {\n        text-align: right;\n    }\n</style>\n<table border=\"1\" class=\"dataframe\">\n  <thead>\n    <tr style=\"text-align: right;\">\n      <th></th>\n      <th>id</th>\n      <th>vas_id</th>\n      <th>buy_time</th>\n      <th>252</th>\n      <th>component_0</th>\n      <th>component_1</th>\n      <th>component_2</th>\n      <th>component_3</th>\n      <th>component_4</th>\n      <th>component_5</th>\n      <th>...</th>\n      <th>component_42</th>\n      <th>component_43</th>\n      <th>component_44</th>\n      <th>component_45</th>\n      <th>component_46</th>\n      <th>component_47</th>\n      <th>component_48</th>\n      <th>component_49</th>\n      <th>month</th>\n      <th>day</th>\n    </tr>\n  </thead>\n  <tbody>\n  </tbody>\n</table>\n<p>0 rows × 56 columns</p>\n</div>"
     },
     "execution_count": 22,
     "metadata": {},
     "output_type": "execute_result"
    }
   ],
   "source": [
    "test.loc[test.day==18]"
   ]
  },
  {
   "cell_type": "markdown",
   "metadata": {
    "id": "BUkcpidBeWHP"
   },
   "source": [
    "18 числа в тесте нет, при этом в трейне наблюдается аномалия по таргету в этот день, посмотрим, в каком месяце наблюдались такие значения"
   ]
  },
  {
   "cell_type": "code",
   "execution_count": 23,
   "metadata": {
    "colab": {
     "base_uri": "https://localhost:8080/"
    },
    "id": "FGJgOjoE0ct-",
    "outputId": "1dcf667f-3d9a-44b9-bdbc-d9c9a50fd9f1"
   },
   "outputs": [
    {
     "data": {
      "text/plain": "11    22915\nName: month, dtype: int64"
     },
     "execution_count": 23,
     "metadata": {},
     "output_type": "execute_result"
    }
   ],
   "source": [
    "train.loc[train.day==18].month.value_counts()"
   ]
  },
  {
   "cell_type": "markdown",
   "metadata": {
    "id": "5De43kTjec7I"
   },
   "source": [
    "Возможно, эта дата дает такое смещение в 11 месяце. Посмотрим на распределение таргета в 11 месяце без 18 числа"
   ]
  },
  {
   "cell_type": "code",
   "execution_count": 24,
   "metadata": {
    "colab": {
     "base_uri": "https://localhost:8080/"
    },
    "id": "hnNC7eqB0ct_",
    "outputId": "7245a53a-8ac5-47c6-ebe6-35e859cd2209"
   },
   "outputs": [
    {
     "data": {
      "text/plain": "0.0    0.899891\n1.0    0.100109\nName: target, dtype: float64"
     },
     "execution_count": 24,
     "metadata": {},
     "output_type": "execute_result"
    }
   ],
   "source": [
    " train.loc[~(train.day==18) & (train.month==11)].target.value_counts(normalize=True)"
   ]
  },
  {
   "cell_type": "markdown",
   "metadata": {
    "id": "tCJPgXdTcxtd"
   },
   "source": [
    "теперь выглядит более адекватно (но все равно выбивается из картины предыдущих трех месяцев. Сначала попробуем обучить модель без 18.11). Посмотрим на распределение по дням в каждом месяце"
   ]
  },
  {
   "cell_type": "code",
   "execution_count": 25,
   "metadata": {
    "colab": {
     "base_uri": "https://localhost:8080/",
     "height": 1000
    },
    "id": "mSm08S1E0ct_",
    "outputId": "360d800b-accd-4c53-99d2-757bb3c13391"
   },
   "outputs": [
    {
     "data": {
      "text/plain": "<Figure size 1152x1152 with 6 Axes>",
      "image/png": "[encoded data removed]"
     },
     "metadata": {
      "needs_background": "light"
     },
     "output_type": "display_data"
    }
   ],
   "source": [
    "months = np.sort(train.month.unique())\n",
    "fig=plt.figure(figsize=(16, 16))\n",
    "\n",
    "plt.suptitle(\"Target by days in each month\", size=20)\n",
    "i=0\n",
    "for month_ in months:\n",
    "    \n",
    "    days_1 = train.loc[(train.target==1) & (train.month==month_)].day.value_counts().sort_values()\n",
    "    days_0 = train.loc[(train.target==0) & ((train.month==month_))].day.value_counts().sort_values()\n",
    "    \n",
    "    ax=plt.subplot(321+i)\n",
    "    ax = plt.bar(days_0.index, days_0.values, label='0', )\n",
    "    ax = plt.bar(days_1.index, days_1.values, label='1')\n",
    "\n",
    "    ax = plt.ylabel(f'Month: {month_}')\n",
    "    ax = plt.legend()\n",
    "    i+=1  \n"
   ]
  },
  {
   "cell_type": "markdown",
   "metadata": {
    "id": "zoX3UmVcdDMN"
   },
   "source": [
    "В первых 4х месяцах распределение таргета более менее стабильное, возможно, лучше будет удалить 11 и 12 месяц (проверить)"
   ]
  },
  {
   "cell_type": "code",
   "execution_count": 26,
   "metadata": {
    "id": "adN6phO30cuA"
   },
   "outputs": [],
   "source": [
    "# #Корелляция с  признаками\n",
    "\n",
    "# TARGET = 'target'\n",
    "# FEATURES = train.columns.drop(TARGET).tolist()\n",
    "\n",
    "# corr_with_target = train[FEATURES + [TARGET]].corr().iloc[:-1, -1].sort_values(ascending=False)\n",
    "\n",
    "# plt.figure(figsize=(16, 40))\n",
    "\n",
    "# sns.barplot(x=corr_with_target.values, y=corr_with_target.index)\n",
    "\n",
    "# plt.title('Correlation with target variable')\n",
    "# plt.show()"
   ]
  },
  {
   "cell_type": "code",
   "execution_count": 27,
   "metadata": {
    "id": "ikjw-HMv0cuA"
   },
   "outputs": [],
   "source": [
    "# удалим 18 день (аномальные значения. Может акция какая-то, может что-то бесплатно подключали, но это не тот случай, который нас интересует, не будем на нем обучаться) \n",
    "train = train.loc[~(train.day==18)]\n",
    "\n",
    "# train = train.loc[~(train.month.isin([11, 12]))] - хуже метрика"
   ]
  },
  {
   "cell_type": "code",
   "execution_count": 28,
   "metadata": {
    "id": "S5jFltkE0cuB"
   },
   "outputs": [],
   "source": [
    "# df_train = train.loc[~train['month'].isin([12])]\n",
    "# df_valid = train.loc[train['month'].isin([12])]\n",
    "\n",
    "# df_train.target.value_counts(normalize=True), df_valid.target.value_counts(normalize=True)"
   ]
  },
  {
   "cell_type": "markdown",
   "metadata": {
    "id": "Mw3zSUxO0cuB"
   },
   "source": [
    "Не очень хорошее распределение получилось на train и valid, по-этому переразобьем стратифицированно с помощью train_test_split"
   ]
  },
  {
   "cell_type": "markdown",
   "metadata": {
    "id": "Q6gwmVTu0cuB"
   },
   "source": [
    "### Разбиение на train и test"
   ]
  },
  {
   "cell_type": "code",
   "execution_count": 29,
   "metadata": {
    "id": "NuaeEtYq0cuB"
   },
   "outputs": [],
   "source": [
    "df_train, df_valid = train_test_split(train, \n",
    "                                      shuffle=True, \n",
    "                                      test_size=0.3, \n",
    "                                      stratify=train['target'], \n",
    "                                      random_state=42)"
   ]
  },
  {
   "cell_type": "code",
   "execution_count": 30,
   "metadata": {
    "colab": {
     "base_uri": "https://localhost:8080/"
    },
    "id": "inpjpQFQ0cuC",
    "outputId": "62504ad4-7cae-4240-ab15-46e1a2db29d0"
   },
   "outputs": [
    {
     "data": {
      "text/plain": "0.0    0.944644\n1.0    0.055356\nName: target, dtype: float64"
     },
     "execution_count": 30,
     "metadata": {},
     "output_type": "execute_result"
    }
   ],
   "source": [
    "df_train.target.value_counts(normalize=True)"
   ]
  },
  {
   "cell_type": "code",
   "execution_count": 31,
   "metadata": {
    "colab": {
     "base_uri": "https://localhost:8080/"
    },
    "id": "jejzVm-k0cuG",
    "outputId": "3b86f482-b5c0-48d8-e7a8-4d9ebdc62199"
   },
   "outputs": [
    {
     "data": {
      "text/plain": "0.0    0.944646\n1.0    0.055354\nName: target, dtype: float64"
     },
     "execution_count": 31,
     "metadata": {},
     "output_type": "execute_result"
    }
   ],
   "source": [
    "df_valid.target.value_counts(normalize=True)"
   ]
  },
  {
   "cell_type": "code",
   "source": [
    "# добавим в качестве признака вероятность подключения услуг\n",
    "# buy_proba = df_train.groupby('vas_id')['target'].apply(lambda x: x.sum() / x.count()).reset_index().rename(columns={'vas_id':'vas_id', 'target': 'probability'})\n",
    "\n",
    "values = df_train.groupby(['vas_id', 'target'])['id'].size().reset_index()\n",
    "values['probability'] = values['id'] / len(df_train)\n",
    "values.drop(columns='id', inplace=True)\n",
    "values\n"
   ],
   "metadata": {
    "colab": {
     "base_uri": "https://localhost:8080/",
     "height": 551
    },
    "id": "VgTpG8BfFza4",
    "outputId": "fa963887-9bff-4cdd-a8b6-5a95da9eb1d2"
   },
   "execution_count": 32,
   "outputs": [
    {
     "data": {
      "text/plain": "    vas_id  target  probability\n0      1.0     0.0     0.372996\n1      1.0     1.0     0.003508\n2      2.0     0.0     0.300158\n3      2.0     1.0     0.002272\n4      4.0     0.0     0.077366\n5      4.0     1.0     0.019916\n6      5.0     0.0     0.113350\n7      5.0     1.0     0.000618\n8      6.0     0.0     0.040956\n9      6.0     1.0     0.028770\n10     7.0     0.0     0.018583\n11     7.0     1.0     0.000057\n12     8.0     0.0     0.015882\n13     8.0     1.0     0.000041\n14     9.0     0.0     0.005354\n15     9.0     1.0     0.000175",
      "text/html": "<div>\n<style scoped>\n    .dataframe tbody tr th:only-of-type {\n        vertical-align: middle;\n    }\n\n    .dataframe tbody tr th {\n        vertical-align: top;\n    }\n\n    .dataframe thead th {\n        text-align: right;\n    }\n</style>\n<table border=\"1\" class=\"dataframe\">\n  <thead>\n    <tr style=\"text-align: right;\">\n      <th></th>\n      <th>vas_id</th>\n      <th>target</th>\n      <th>probability</th>\n    </tr>\n  </thead>\n  <tbody>\n    <tr>\n      <th>0</th>\n      <td>1.0</td>\n      <td>0.0</td>\n      <td>0.372996</td>\n    </tr>\n    <tr>\n      <th>1</th>\n      <td>1.0</td>\n      <td>1.0</td>\n      <td>0.003508</td>\n    </tr>\n    <tr>\n      <th>2</th>\n      <td>2.0</td>\n      <td>0.0</td>\n      <td>0.300158</td>\n    </tr>\n    <tr>\n      <th>3</th>\n      <td>2.0</td>\n      <td>1.0</td>\n      <td>0.002272</td>\n    </tr>\n    <tr>\n      <th>4</th>\n      <td>4.0</td>\n      <td>0.0</td>\n      <td>0.077366</td>\n    </tr>\n    <tr>\n      <th>5</th>\n      <td>4.0</td>\n      <td>1.0</td>\n      <td>0.019916</td>\n    </tr>\n    <tr>\n      <th>6</th>\n      <td>5.0</td>\n      <td>0.0</td>\n      <td>0.113350</td>\n    </tr>\n    <tr>\n      <th>7</th>\n      <td>5.0</td>\n      <td>1.0</td>\n      <td>0.000618</td>\n    </tr>\n    <tr>\n      <th>8</th>\n      <td>6.0</td>\n      <td>0.0</td>\n      <td>0.040956</td>\n    </tr>\n    <tr>\n      <th>9</th>\n      <td>6.0</td>\n      <td>1.0</td>\n      <td>0.028770</td>\n    </tr>\n    <tr>\n      <th>10</th>\n      <td>7.0</td>\n      <td>0.0</td>\n      <td>0.018583</td>\n    </tr>\n    <tr>\n      <th>11</th>\n      <td>7.0</td>\n      <td>1.0</td>\n      <td>0.000057</td>\n    </tr>\n    <tr>\n      <th>12</th>\n      <td>8.0</td>\n      <td>0.0</td>\n      <td>0.015882</td>\n    </tr>\n    <tr>\n      <th>13</th>\n      <td>8.0</td>\n      <td>1.0</td>\n      <td>0.000041</td>\n    </tr>\n    <tr>\n      <th>14</th>\n      <td>9.0</td>\n      <td>0.0</td>\n      <td>0.005354</td>\n    </tr>\n    <tr>\n      <th>15</th>\n      <td>9.0</td>\n      <td>1.0</td>\n      <td>0.000175</td>\n    </tr>\n  </tbody>\n</table>\n</div>"
     },
     "execution_count": 32,
     "metadata": {},
     "output_type": "execute_result"
    }
   ]
  },
  {
   "cell_type": "code",
   "source": [
    "def add_proba(train, test):\n",
    "  # fit\n",
    "  values = train.groupby(['vas_id', 'target'])['id'].size().reset_index()\n",
    "  values['probability'] = values['id'] / len(df_train)\n",
    "  values.drop(columns=['id', 'target'], inplace=True)\n",
    "\n",
    "  \n",
    "  train = train.merge(values, on=['vas_id'], how='left')\n",
    "  # transform\n",
    "  test = test.merge(values, on=['vas_id'], how='left')\n",
    "  \n",
    "  return train, test"
   ],
   "metadata": {
    "id": "Wl-Iqx96LLbJ"
   },
   "execution_count": 33,
   "outputs": []
  },
  {
   "cell_type": "code",
   "source": [
    "train, test = add_proba(train, test)\n",
    "test.tail(3)"
   ],
   "metadata": {
    "colab": {
     "base_uri": "https://localhost:8080/",
     "height": 260
    },
    "id": "twgTl-2SLrNd",
    "outputId": "64ce0bc3-d787-4f31-a06f-fa558592f27d"
   },
   "execution_count": 34,
   "outputs": [
    {
     "data": {
      "text/plain": "             id  vas_id            buy_time  252  component_0  component_1  \\\n142459  1447357     6.0 2019-01-20 21:00:00  0.0     1.051441    -2.085514   \n142460   988236     2.0 2019-01-20 21:00:00  0.0     4.329867    -2.173344   \n142461   988236     2.0 2019-01-20 21:00:00  0.0     4.329867    -2.173344   \n\n        component_2  component_3  component_4  component_5  ...  component_43  \\\n142459     2.086823    -1.953215     0.114580    -0.682766  ...      1.320252   \n142460     1.416670    -2.705303     0.492999    -1.291205  ...      0.459323   \n142461     1.416670    -2.705303     0.492999    -1.291205  ...      0.459323   \n\n        component_44  component_45  component_46  component_47  component_48  \\\n142459      0.882394      0.499117     -1.136313     -0.386444     -0.010193   \n142460     -0.219589      1.259391      0.248230     -0.307883      0.014105   \n142461     -0.219589      1.259391      0.248230     -0.307883      0.014105   \n\n        component_49  month  day  probability  \n142459      0.508425      1   20     0.041016  \n142460     -0.347168      1   20     0.429020  \n142461     -0.347168      1   20     0.003328  \n\n[3 rows x 57 columns]",
      "text/html": "<div>\n<style scoped>\n    .dataframe tbody tr th:only-of-type {\n        vertical-align: middle;\n    }\n\n    .dataframe tbody tr th {\n        vertical-align: top;\n    }\n\n    .dataframe thead th {\n        text-align: right;\n    }\n</style>\n<table border=\"1\" class=\"dataframe\">\n  <thead>\n    <tr style=\"text-align: right;\">\n      <th></th>\n      <th>id</th>\n      <th>vas_id</th>\n      <th>buy_time</th>\n      <th>252</th>\n      <th>component_0</th>\n      <th>component_1</th>\n      <th>component_2</th>\n      <th>component_3</th>\n      <th>component_4</th>\n      <th>component_5</th>\n      <th>...</th>\n      <th>component_43</th>\n      <th>component_44</th>\n      <th>component_45</th>\n      <th>component_46</th>\n      <th>component_47</th>\n      <th>component_48</th>\n      <th>component_49</th>\n      <th>month</th>\n      <th>day</th>\n      <th>probability</th>\n    </tr>\n  </thead>\n  <tbody>\n    <tr>\n      <th>142459</th>\n      <td>1447357</td>\n      <td>6.0</td>\n      <td>2019-01-20 21:00:00</td>\n      <td>0.0</td>\n      <td>1.051441</td>\n      <td>-2.085514</td>\n      <td>2.086823</td>\n      <td>-1.953215</td>\n      <td>0.114580</td>\n      <td>-0.682766</td>\n      <td>...</td>\n      <td>1.320252</td>\n      <td>0.882394</td>\n      <td>0.499117</td>\n      <td>-1.136313</td>\n      <td>-0.386444</td>\n      <td>-0.010193</td>\n      <td>0.508425</td>\n      <td>1</td>\n      <td>20</td>\n      <td>0.041016</td>\n    </tr>\n    <tr>\n      <th>142460</th>\n      <td>988236</td>\n      <td>2.0</td>\n      <td>2019-01-20 21:00:00</td>\n      <td>0.0</td>\n      <td>4.329867</td>\n      <td>-2.173344</td>\n      <td>1.416670</td>\n      <td>-2.705303</td>\n      <td>0.492999</td>\n      <td>-1.291205</td>\n      <td>...</td>\n      <td>0.459323</td>\n      <td>-0.219589</td>\n      <td>1.259391</td>\n      <td>0.248230</td>\n      <td>-0.307883</td>\n      <td>0.014105</td>\n      <td>-0.347168</td>\n      <td>1</td>\n      <td>20</td>\n      <td>0.429020</td>\n    </tr>\n    <tr>\n      <th>142461</th>\n      <td>988236</td>\n      <td>2.0</td>\n      <td>2019-01-20 21:00:00</td>\n      <td>0.0</td>\n      <td>4.329867</td>\n      <td>-2.173344</td>\n      <td>1.416670</td>\n      <td>-2.705303</td>\n      <td>0.492999</td>\n      <td>-1.291205</td>\n      <td>...</td>\n      <td>0.459323</td>\n      <td>-0.219589</td>\n      <td>1.259391</td>\n      <td>0.248230</td>\n      <td>-0.307883</td>\n      <td>0.014105</td>\n      <td>-0.347168</td>\n      <td>1</td>\n      <td>20</td>\n      <td>0.003328</td>\n    </tr>\n  </tbody>\n</table>\n<p>3 rows × 57 columns</p>\n</div>"
     },
     "execution_count": 34,
     "metadata": {},
     "output_type": "execute_result"
    }
   ]
  },
  {
   "cell_type": "code",
   "source": [
    "train.head(2)"
   ],
   "metadata": {
    "colab": {
     "base_uri": "https://localhost:8080/",
     "height": 211
    },
    "id": "VVZI5yEEQQ59",
    "outputId": "da8a2334-ff78-4920-ff89-a8ee29cd911d"
   },
   "execution_count": 35,
   "outputs": [
    {
     "data": {
      "text/plain": "        id  vas_id            buy_time  target  252  component_0  component_1  \\\n0  2582523     2.0 2018-07-08 21:00:00     0.0  0.0    -0.379565     3.028142   \n1  2582523     2.0 2018-07-08 21:00:00     0.0  0.0    -0.379565     3.028142   \n\n   component_2  component_3  component_4  ...  component_43  component_44  \\\n0     -3.50037     1.187461     1.037129  ...      1.549308     -1.782069   \n1     -3.50037     1.187461     1.037129  ...      1.549308     -1.782069   \n\n   component_45  component_46  component_47  component_48  component_49  \\\n0     -1.105894     -0.891954      0.241378       0.04147     -0.847622   \n1     -1.105894     -0.891954      0.241378       0.04147     -0.847622   \n\n   month  day  probability  \n0      7    8     0.429020  \n1      7    8     0.003328  \n\n[2 rows x 58 columns]",
      "text/html": "<div>\n<style scoped>\n    .dataframe tbody tr th:only-of-type {\n        vertical-align: middle;\n    }\n\n    .dataframe tbody tr th {\n        vertical-align: top;\n    }\n\n    .dataframe thead th {\n        text-align: right;\n    }\n</style>\n<table border=\"1\" class=\"dataframe\">\n  <thead>\n    <tr style=\"text-align: right;\">\n      <th></th>\n      <th>id</th>\n      <th>vas_id</th>\n      <th>buy_time</th>\n      <th>target</th>\n      <th>252</th>\n      <th>component_0</th>\n      <th>component_1</th>\n      <th>component_2</th>\n      <th>component_3</th>\n      <th>component_4</th>\n      <th>...</th>\n      <th>component_43</th>\n      <th>component_44</th>\n      <th>component_45</th>\n      <th>component_46</th>\n      <th>component_47</th>\n      <th>component_48</th>\n      <th>component_49</th>\n      <th>month</th>\n      <th>day</th>\n      <th>probability</th>\n    </tr>\n  </thead>\n  <tbody>\n    <tr>\n      <th>0</th>\n      <td>2582523</td>\n      <td>2.0</td>\n      <td>2018-07-08 21:00:00</td>\n      <td>0.0</td>\n      <td>0.0</td>\n      <td>-0.379565</td>\n      <td>3.028142</td>\n      <td>-3.50037</td>\n      <td>1.187461</td>\n      <td>1.037129</td>\n      <td>...</td>\n      <td>1.549308</td>\n      <td>-1.782069</td>\n      <td>-1.105894</td>\n      <td>-0.891954</td>\n      <td>0.241378</td>\n      <td>0.04147</td>\n      <td>-0.847622</td>\n      <td>7</td>\n      <td>8</td>\n      <td>0.429020</td>\n    </tr>\n    <tr>\n      <th>1</th>\n      <td>2582523</td>\n      <td>2.0</td>\n      <td>2018-07-08 21:00:00</td>\n      <td>0.0</td>\n      <td>0.0</td>\n      <td>-0.379565</td>\n      <td>3.028142</td>\n      <td>-3.50037</td>\n      <td>1.187461</td>\n      <td>1.037129</td>\n      <td>...</td>\n      <td>1.549308</td>\n      <td>-1.782069</td>\n      <td>-1.105894</td>\n      <td>-0.891954</td>\n      <td>0.241378</td>\n      <td>0.04147</td>\n      <td>-0.847622</td>\n      <td>7</td>\n      <td>8</td>\n      <td>0.003328</td>\n    </tr>\n  </tbody>\n</table>\n<p>2 rows × 58 columns</p>\n</div>"
     },
     "execution_count": 35,
     "metadata": {},
     "output_type": "execute_result"
    }
   ]
  },
  {
   "cell_type": "code",
   "source": [
    "df_train = df_train.merge(values, on=['vas_id', 'target'], how='left')\n",
    "df_valid = df_valid.merge(values, on=['vas_id', 'target'], how='left')\n",
    "\n",
    "df_train.head()"
   ],
   "metadata": {
    "colab": {
     "base_uri": "https://localhost:8080/",
     "height": 357
    },
    "id": "oxFSSOlAGWnQ",
    "outputId": "07a551bc-32f1-4e8a-be61-ab77b1b766bd"
   },
   "execution_count": 36,
   "outputs": [
    {
     "data": {
      "text/plain": "        id  vas_id            buy_time  target  252  component_0  component_1  \\\n0  1610623     4.0 2018-09-09 21:00:00     0.0  0.0    -0.075345    -0.795470   \n1    57357     5.0 2018-12-30 21:00:00     0.0  0.0    -1.242302    -0.826880   \n2  2041775     2.0 2018-08-05 21:00:00     0.0  0.0    -2.790545    -0.165194   \n3  3226133     2.0 2018-08-19 21:00:00     0.0  0.0     3.046451     5.843786   \n4  4073569     1.0 2018-10-07 21:00:00     0.0  0.0    -1.112723    -1.200500   \n\n   component_2  component_3  component_4  ...  component_43  component_44  \\\n0    -0.537617    -1.132301     0.315816  ...      0.783119      1.516354   \n1     0.232477    -0.602526    -0.003291  ...     -0.104100     -0.108473   \n2    -0.225071    -0.573385    -0.021864  ...      1.392191     -0.357403   \n3     6.547472     1.551477    44.838320  ...      0.861064    -12.592044   \n4     2.008357    -0.441132    -0.150480  ...      0.361085      0.208214   \n\n   component_45  component_46  component_47  component_48  component_49  \\\n0     -1.442360      0.934877     -0.121024      2.058582      2.906931   \n1     -0.000231      0.624520     -0.170450      0.255103      0.395633   \n2      1.326931     -0.537469      0.502586      0.343794     -0.359280   \n3      2.524875      1.868788    -38.800390    -21.884132      1.205023   \n4      0.788043     -1.688426      2.374644      5.481839     -0.937705   \n\n   month  day  probability  \n0      9    9     0.077366  \n1     12   30     0.113350  \n2      8    5     0.300158  \n3      8   19     0.300158  \n4     10    7     0.372996  \n\n[5 rows x 58 columns]",
      "text/html": "<div>\n<style scoped>\n    .dataframe tbody tr th:only-of-type {\n        vertical-align: middle;\n    }\n\n    .dataframe tbody tr th {\n        vertical-align: top;\n    }\n\n    .dataframe thead th {\n        text-align: right;\n    }\n</style>\n<table border=\"1\" class=\"dataframe\">\n  <thead>\n    <tr style=\"text-align: right;\">\n      <th></th>\n      <th>id</th>\n      <th>vas_id</th>\n      <th>buy_time</th>\n      <th>target</th>\n      <th>252</th>\n      <th>component_0</th>\n      <th>component_1</th>\n      <th>component_2</th>\n      <th>component_3</th>\n      <th>component_4</th>\n      <th>...</th>\n      <th>component_43</th>\n      <th>component_44</th>\n      <th>component_45</th>\n      <th>component_46</th>\n      <th>component_47</th>\n      <th>component_48</th>\n      <th>component_49</th>\n      <th>month</th>\n      <th>day</th>\n      <th>probability</th>\n    </tr>\n  </thead>\n  <tbody>\n    <tr>\n      <th>0</th>\n      <td>1610623</td>\n      <td>4.0</td>\n      <td>2018-09-09 21:00:00</td>\n      <td>0.0</td>\n      <td>0.0</td>\n      <td>-0.075345</td>\n      <td>-0.795470</td>\n      <td>-0.537617</td>\n      <td>-1.132301</td>\n      <td>0.315816</td>\n      <td>...</td>\n      <td>0.783119</td>\n      <td>1.516354</td>\n      <td>-1.442360</td>\n      <td>0.934877</td>\n      <td>-0.121024</td>\n      <td>2.058582</td>\n      <td>2.906931</td>\n      <td>9</td>\n      <td>9</td>\n      <td>0.077366</td>\n    </tr>\n    <tr>\n      <th>1</th>\n      <td>57357</td>\n      <td>5.0</td>\n      <td>2018-12-30 21:00:00</td>\n      <td>0.0</td>\n      <td>0.0</td>\n      <td>-1.242302</td>\n      <td>-0.826880</td>\n      <td>0.232477</td>\n      <td>-0.602526</td>\n      <td>-0.003291</td>\n      <td>...</td>\n      <td>-0.104100</td>\n      <td>-0.108473</td>\n      <td>-0.000231</td>\n      <td>0.624520</td>\n      <td>-0.170450</td>\n      <td>0.255103</td>\n      <td>0.395633</td>\n      <td>12</td>\n      <td>30</td>\n      <td>0.113350</td>\n    </tr>\n    <tr>\n      <th>2</th>\n      <td>2041775</td>\n      <td>2.0</td>\n      <td>2018-08-05 21:00:00</td>\n      <td>0.0</td>\n      <td>0.0</td>\n      <td>-2.790545</td>\n      <td>-0.165194</td>\n      <td>-0.225071</td>\n      <td>-0.573385</td>\n      <td>-0.021864</td>\n      <td>...</td>\n      <td>1.392191</td>\n      <td>-0.357403</td>\n      <td>1.326931</td>\n      <td>-0.537469</td>\n      <td>0.502586</td>\n      <td>0.343794</td>\n      <td>-0.359280</td>\n      <td>8</td>\n      <td>5</td>\n      <td>0.300158</td>\n    </tr>\n    <tr>\n      <th>3</th>\n      <td>3226133</td>\n      <td>2.0</td>\n      <td>2018-08-19 21:00:00</td>\n      <td>0.0</td>\n      <td>0.0</td>\n      <td>3.046451</td>\n      <td>5.843786</td>\n      <td>6.547472</td>\n      <td>1.551477</td>\n      <td>44.838320</td>\n      <td>...</td>\n      <td>0.861064</td>\n      <td>-12.592044</td>\n      <td>2.524875</td>\n      <td>1.868788</td>\n      <td>-38.800390</td>\n      <td>-21.884132</td>\n      <td>1.205023</td>\n      <td>8</td>\n      <td>19</td>\n      <td>0.300158</td>\n    </tr>\n    <tr>\n      <th>4</th>\n      <td>4073569</td>\n      <td>1.0</td>\n      <td>2018-10-07 21:00:00</td>\n      <td>0.0</td>\n      <td>0.0</td>\n      <td>-1.112723</td>\n      <td>-1.200500</td>\n      <td>2.008357</td>\n      <td>-0.441132</td>\n      <td>-0.150480</td>\n      <td>...</td>\n      <td>0.361085</td>\n      <td>0.208214</td>\n      <td>0.788043</td>\n      <td>-1.688426</td>\n      <td>2.374644</td>\n      <td>5.481839</td>\n      <td>-0.937705</td>\n      <td>10</td>\n      <td>7</td>\n      <td>0.372996</td>\n    </tr>\n  </tbody>\n</table>\n<p>5 rows × 58 columns</p>\n</div>"
     },
     "execution_count": 36,
     "metadata": {},
     "output_type": "execute_result"
    }
   ]
  },
  {
   "cell_type": "code",
   "source": [
    "train.probability.isnull().sum(), test.probability.isnull().sum()\n",
    "# нулей нет"
   ],
   "metadata": {
    "colab": {
     "base_uri": "https://localhost:8080/"
    },
    "id": "d6sX_lacG1Ew",
    "outputId": "3a8aefe8-b0a9-4ede-92df-5e40760cc47b"
   },
   "execution_count": 37,
   "outputs": [
    {
     "data": {
      "text/plain": "(0, 0)"
     },
     "execution_count": 37,
     "metadata": {},
     "output_type": "execute_result"
    }
   ]
  },
  {
   "cell_type": "code",
   "source": [
    "# Кластеризация клиентов"
   ],
   "metadata": {
    "id": "cSd-xza6HnDN"
   },
   "execution_count": 38,
   "outputs": []
  },
  {
   "cell_type": "markdown",
   "metadata": {
    "id": "eVEDIivE0cuH"
   },
   "source": [
    "### Балансировка целевой переменной"
   ]
  },
  {
   "cell_type": "code",
   "execution_count": 39,
   "metadata": {
    "id": "Rik70JBc0cuH"
   },
   "outputs": [],
   "source": [
    "def balance_df_by_target(df, target_name):\n",
    "    \n",
    "    target_counts = df[target_name].value_counts()\n",
    "\n",
    "    major_class_name = target_counts.argmax()\n",
    "    minor_class_name = target_counts.argmin()\n",
    "\n",
    "    disbalance_coeff = int(target_counts[major_class_name] / target_counts[minor_class_name]) - 1\n",
    "\n",
    "    for i in range(disbalance_coeff):\n",
    "        sample = df[df[target_name] == minor_class_name].sample(target_counts[minor_class_name])\n",
    "        df = df.append(sample, ignore_index=True)\n",
    "            \n",
    "    return df.sample(frac=1) "
   ]
  },
  {
   "cell_type": "code",
   "execution_count": 40,
   "metadata": {
    "colab": {
     "base_uri": "https://localhost:8080/"
    },
    "id": "WyRrpKaC0cuH",
    "outputId": "f8e3d144-00da-4131-ba95-89bd2ea3cd2b"
   },
   "outputs": [
    {
     "data": {
      "text/plain": "17.06484140659902"
     },
     "execution_count": 40,
     "metadata": {},
     "output_type": "execute_result"
    }
   ],
   "source": [
    "disbalance = df_train.target.value_counts()[0] / df_train.target.value_counts()[1]\n",
    "disbalance"
   ]
  },
  {
   "cell_type": "code",
   "execution_count": 41,
   "metadata": {
    "colab": {
     "base_uri": "https://localhost:8080/"
    },
    "id": "TgRZ4T6A0cuH",
    "outputId": "55fcd3a8-259b-41f3-bfe4-2d20a384e89f"
   },
   "outputs": [
    {
     "data": {
      "text/plain": "['component_38',\n 'component_17',\n 'component_11',\n 'component_26',\n 'component_30',\n 'component_19',\n 'component_31',\n 'component_8',\n 'component_6',\n 'component_18',\n 'component_2',\n 'component_13',\n 'component_46',\n 'component_21',\n 'component_0',\n 'component_48',\n 'component_45',\n 'component_28',\n 'probability',\n 'component_32',\n 'component_35',\n 'component_36',\n 'component_14',\n 'component_44',\n 'component_37',\n 'component_43',\n 'component_16',\n 'component_40',\n 'component_22',\n 'component_49',\n 'component_23',\n 'component_41',\n 'component_5',\n 'component_4',\n 'component_1',\n 'component_15',\n 'component_3',\n 'component_27',\n 'component_7',\n 'component_9',\n 'component_39',\n 'component_42',\n 'component_24',\n 'component_20',\n 'component_47',\n 'component_12',\n 'component_34',\n 'component_33',\n 'component_29',\n 'component_10',\n 'component_25']"
     },
     "execution_count": 41,
     "metadata": {},
     "output_type": "execute_result"
    }
   ],
   "source": [
    "columns = list(set(df_train.columns) - {'id', 'vas_id', 'buy_time', 'target', '252', 'month', 'day'})\n",
    "columns"
   ]
  },
  {
   "cell_type": "code",
   "execution_count": 42,
   "metadata": {
    "id": "i4UREe1x0cuI",
    "colab": {
     "base_uri": "https://localhost:8080/",
     "height": 378
    },
    "outputId": "80ee62ca-ab56-47fa-aa1b-43c5c8d12452"
   },
   "outputs": [
    {
     "data": {
      "text/plain": "0.0    534778\n1.0    532746\nName: target, dtype: int64"
     },
     "execution_count": 42,
     "metadata": {},
     "output_type": "execute_result"
    }
   ],
   "source": [
    "df_train_balanced = balance_df_by_target(df_train, 'target')\n",
    "    \n",
    "df_train_balanced['target'].value_counts()"
   ]
  },
  {
   "cell_type": "code",
   "source": [
    "# для всего датасета\n",
    "\n",
    "train_balanced = balance_df_by_target(train, 'target')\n",
    "    \n",
    "train_balanced['target'].value_counts()"
   ],
   "metadata": {
    "colab": {
     "base_uri": "https://localhost:8080/"
    },
    "id": "zZcNfHOINP4C",
    "outputId": "0b351000-6385-4179-c943-2054f1bb06ea"
   },
   "execution_count": 43,
   "outputs": [
    {
     "data": {
      "text/plain": "0.0    1527940\n1.0    1522112\nName: target, dtype: int64"
     },
     "execution_count": 43,
     "metadata": {},
     "output_type": "execute_result"
    }
   ]
  },
  {
   "cell_type": "code",
   "execution_count": 44,
   "metadata": {
    "id": "hL4uOKCX0cuI"
   },
   "outputs": [],
   "source": [
    "# %%time\n",
    "# from imblearn.under_sampling import TomekLinks\n",
    "\n",
    "# X_train = train.drop(columns=['id', 'target', 'buy_time', 'month', 'day'])\n",
    "# y_train = train.target \n",
    "\n",
    "# tl = TomekLinks()\n",
    "# X_train_balanced, y_train_balanced = tl.fit_resample(X_train, y_train)\n",
    "\n",
    "# y_train_balanced.value_counts()"
   ]
  },
  {
   "cell_type": "code",
   "execution_count": 45,
   "metadata": {
    "id": "hu-rTivD0cuI"
   },
   "outputs": [],
   "source": [
    "X_train = df_train_balanced[columns]\n",
    "y_train = df_train_balanced.target\n",
    "\n",
    "X_test = df_valid[columns]\n",
    "y_test = df_valid.target"
   ]
  },
  {
   "cell_type": "code",
   "execution_count": 46,
   "metadata": {
    "colab": {
     "base_uri": "https://localhost:8080/"
    },
    "id": "eJGODevd0cuI",
    "outputId": "7bafd3ba-4d8d-4b4a-89f5-756304e395f4"
   },
   "outputs": [
    {
     "data": {
      "text/plain": "((1067524, 51), (1067524,), (242622, 51), (242622,))"
     },
     "execution_count": 46,
     "metadata": {},
     "output_type": "execute_result"
    }
   ],
   "source": [
    "X_train.shape, y_train.shape, X_test.shape, y_test.shape"
   ]
  },
  {
   "cell_type": "markdown",
   "metadata": {
    "id": "jOux3EucW47d"
   },
   "source": [
    "### Построение базовых моделей\n",
    "\n",
    "Была выбрана базовая модель логистической регрессии, так как на наших данных она отрабатывает быстрее всех остальных"
   ]
  },
  {
   "cell_type": "code",
   "execution_count": 47,
   "metadata": {
    "colab": {
     "base_uri": "https://localhost:8080/"
    },
    "id": "VcGUz0B3Pmmr",
    "outputId": "42be21d3-6eee-4aa5-b80c-c4d1e8590c82"
   },
   "outputs": [
    {
     "name": "stderr",
     "output_type": "stream",
     "text": [
      "/Users/catherine/.conda/envs/workspace-3.9/lib/python3.9/site-packages/sklearn/linear_model/_logistic.py:814: ConvergenceWarning: lbfgs failed to converge (status=1):\n",
      "STOP: TOTAL NO. of ITERATIONS REACHED LIMIT.\n",
      "\n",
      "Increase the number of iterations (max_iter) or scale the data as shown in:\n",
      "    https://scikit-learn.org/stable/modules/preprocessing.html\n",
      "Please also refer to the documentation for alternative solver options:\n",
      "    https://scikit-learn.org/stable/modules/linear_model.html#logistic-regression\n",
      "  n_iter_i = _check_optimize_result(\n"
     ]
    },
    {
     "name": "stdout",
     "output_type": "stream",
     "text": [
      "TRAIN\n",
      "\n",
      "              precision    recall  f1-score   support\n",
      "\n",
      "         0.0       1.00      0.91      0.96    534778\n",
      "         1.0       0.92      1.00      0.96    532746\n",
      "\n",
      "    accuracy                           0.96   1067524\n",
      "   macro avg       0.96      0.96      0.96   1067524\n",
      "weighted avg       0.96      0.96      0.96   1067524\n",
      "\n",
      "TEST\n",
      "\n",
      "              precision    recall  f1-score   support\n",
      "\n",
      "         0.0       1.00      0.91      0.96    229192\n",
      "         1.0       0.41      1.00      0.58     13430\n",
      "\n",
      "    accuracy                           0.92    242622\n",
      "   macro avg       0.70      0.96      0.77    242622\n",
      "weighted avg       0.97      0.92      0.93    242622\n",
      "\n",
      "CONFUSION MATRIX\n",
      "\n",
      "col_0      0.0    1.0\n",
      "target               \n",
      "0.0     209563  19629\n",
      "1.0          5  13425\n"
     ]
    }
   ],
   "source": [
    "# базовая модель LogisticRegression()\n",
    "from sklearn.linear_model import LogisticRegression\n",
    "\n",
    "lr = LogisticRegression(random_state=42, n_jobs=-1)\n",
    "lr.fit(X_train, y_train)\n",
    "\n",
    "y_train_pred = lr.predict(X_train)\n",
    "y_test_pred = lr.predict(X_test)\n",
    "\n",
    "get_classification_report(y_train, y_train_pred, y_test, y_test_pred)"
   ]
  },
  {
   "cell_type": "code",
   "source": [
    "# подберем отсечку по вероятности \n",
    "\n",
    "y_train_pred = lr.predict(X_train)\n",
    "y_test_pred = lr.predict_proba(X_test)\n",
    "\n",
    "\n",
    "show_proba_calibration_plots(y_test_pred[:,1], y_test)"
   ],
   "metadata": {
    "colab": {
     "base_uri": "https://localhost:8080/",
     "height": 547
    },
    "id": "moREvKUMDyi6",
    "outputId": "dd1351c8-9ed5-43fa-c5e4-7e9ec484f2d9"
   },
   "execution_count": 48,
   "outputs": [
    {
     "data": {
      "text/plain": "<Figure size 648x288 with 2 Axes>",
      "image/png": "[encoded data removed]"
     },
     "metadata": {
      "needs_background": "light"
     },
     "output_type": "display_data"
    }
   ]
  },
  {
   "cell_type": "code",
   "source": [
    "y_test_pred = np.where(y_test_pred[:, 1] > 0.8, 1, 0)\n",
    "get_classification_report(y_train, y_train_pred, y_test, y_test_pred)"
   ],
   "metadata": {
    "colab": {
     "base_uri": "https://localhost:8080/"
    },
    "id": "yBBrfx7gGy9L",
    "outputId": "330c7a75-3a31-4854-9192-4e20952cb995"
   },
   "execution_count": 49,
   "outputs": [
    {
     "name": "stdout",
     "output_type": "stream",
     "text": [
      "TRAIN\n",
      "\n",
      "              precision    recall  f1-score   support\n",
      "\n",
      "         0.0       1.00      0.91      0.96    534778\n",
      "         1.0       0.92      1.00      0.96    532746\n",
      "\n",
      "    accuracy                           0.96   1067524\n",
      "   macro avg       0.96      0.96      0.96   1067524\n",
      "weighted avg       0.96      0.96      0.96   1067524\n",
      "\n",
      "TEST\n",
      "\n",
      "              precision    recall  f1-score   support\n",
      "\n",
      "         0.0       1.00      0.96      0.98    229192\n",
      "         1.0       0.58      1.00      0.73     13430\n",
      "\n",
      "    accuracy                           0.96    242622\n",
      "   macro avg       0.79      0.98      0.86    242622\n",
      "weighted avg       0.98      0.96      0.96    242622\n",
      "\n",
      "CONFUSION MATRIX\n",
      "\n",
      "col_0        0      1\n",
      "target               \n",
      "0.0     219470   9722\n",
      "1.0         11  13419\n"
     ]
    }
   ]
  },
  {
   "cell_type": "markdown",
   "source": [
    "### Кросс-валидация"
   ],
   "metadata": {
    "id": "hYrBTuSqHTBc"
   }
  },
  {
   "cell_type": "code",
   "source": [
    "cv_score = cross_val_score(\n",
    "    lr,\n",
    "    X_train[columns],\n",
    "    y_train,\n",
    "    scoring='f1',\n",
    "    cv=StratifiedKFold(n_splits=5, shuffle=True, random_state=21)\n",
    ")\n",
    "cv_score"
   ],
   "metadata": {
    "colab": {
     "base_uri": "https://localhost:8080/"
    },
    "id": "wln2-XOsHSGH",
    "outputId": "7c2f28cf-1cd6-4ad2-f1c5-6268ec1cac52"
   },
   "execution_count": 50,
   "outputs": [
    {
     "name": "stderr",
     "output_type": "stream",
     "text": [
      "/Users/catherine/.conda/envs/workspace-3.9/lib/python3.9/site-packages/sklearn/linear_model/_logistic.py:814: ConvergenceWarning: lbfgs failed to converge (status=1):\n",
      "STOP: TOTAL NO. of ITERATIONS REACHED LIMIT.\n",
      "\n",
      "Increase the number of iterations (max_iter) or scale the data as shown in:\n",
      "    https://scikit-learn.org/stable/modules/preprocessing.html\n",
      "Please also refer to the documentation for alternative solver options:\n",
      "    https://scikit-learn.org/stable/modules/linear_model.html#logistic-regression\n",
      "  n_iter_i = _check_optimize_result(\n",
      "/Users/catherine/.conda/envs/workspace-3.9/lib/python3.9/site-packages/sklearn/linear_model/_logistic.py:814: ConvergenceWarning: lbfgs failed to converge (status=1):\n",
      "STOP: TOTAL NO. of ITERATIONS REACHED LIMIT.\n",
      "\n",
      "Increase the number of iterations (max_iter) or scale the data as shown in:\n",
      "    https://scikit-learn.org/stable/modules/preprocessing.html\n",
      "Please also refer to the documentation for alternative solver options:\n",
      "    https://scikit-learn.org/stable/modules/linear_model.html#logistic-regression\n",
      "  n_iter_i = _check_optimize_result(\n",
      "/Users/catherine/.conda/envs/workspace-3.9/lib/python3.9/site-packages/sklearn/linear_model/_logistic.py:814: ConvergenceWarning: lbfgs failed to converge (status=1):\n",
      "STOP: TOTAL NO. of ITERATIONS REACHED LIMIT.\n",
      "\n",
      "Increase the number of iterations (max_iter) or scale the data as shown in:\n",
      "    https://scikit-learn.org/stable/modules/preprocessing.html\n",
      "Please also refer to the documentation for alternative solver options:\n",
      "    https://scikit-learn.org/stable/modules/linear_model.html#logistic-regression\n",
      "  n_iter_i = _check_optimize_result(\n",
      "/Users/catherine/.conda/envs/workspace-3.9/lib/python3.9/site-packages/sklearn/linear_model/_logistic.py:814: ConvergenceWarning: lbfgs failed to converge (status=1):\n",
      "STOP: TOTAL NO. of ITERATIONS REACHED LIMIT.\n",
      "\n",
      "Increase the number of iterations (max_iter) or scale the data as shown in:\n",
      "    https://scikit-learn.org/stable/modules/preprocessing.html\n",
      "Please also refer to the documentation for alternative solver options:\n",
      "    https://scikit-learn.org/stable/modules/linear_model.html#logistic-regression\n",
      "  n_iter_i = _check_optimize_result(\n",
      "/Users/catherine/.conda/envs/workspace-3.9/lib/python3.9/site-packages/sklearn/linear_model/_logistic.py:814: ConvergenceWarning: lbfgs failed to converge (status=1):\n",
      "STOP: TOTAL NO. of ITERATIONS REACHED LIMIT.\n",
      "\n",
      "Increase the number of iterations (max_iter) or scale the data as shown in:\n",
      "    https://scikit-learn.org/stable/modules/preprocessing.html\n",
      "Please also refer to the documentation for alternative solver options:\n",
      "    https://scikit-learn.org/stable/modules/linear_model.html#logistic-regression\n",
      "  n_iter_i = _check_optimize_result(\n"
     ]
    },
    {
     "data": {
      "text/plain": "array([0.9588384 , 0.95917936, 0.95911028, 0.95844634, 0.95873487])"
     },
     "execution_count": 50,
     "metadata": {},
     "output_type": "execute_result"
    }
   ]
  },
  {
   "cell_type": "markdown",
   "source": [
    "Сделаем финальное предсказание на всем датасете"
   ],
   "metadata": {
    "id": "MElvh1VLInmk"
   }
  },
  {
   "cell_type": "code",
   "source": [
    "X_train_full = train_balanced[columns]\n",
    "y_train_full = train_balanced.target\n",
    "\n",
    "X_test_full = test[columns]\n",
    "\n",
    "lr = LogisticRegression(random_state=42, n_jobs=-1)\n",
    "\n",
    "lr.fit(X_train_full, y_train_full)\n",
    "y_test_pred_full = lr.predict_proba(X_test_full)\n",
    "y_test_pred_full = np.where(y_test_pred_full[:, 1] > 0.8, 1, 0)\n",
    "\n",
    "pickle.dump(\n",
    "    lr, open(\"model.pkl\", \"wb\")\n",
    ")"
   ],
   "metadata": {
    "id": "LlcgGbJ1JNB-"
   },
   "execution_count": 51,
   "outputs": []
  },
  {
   "cell_type": "code",
   "execution_count": 52,
   "outputs": [
    {
     "data": {
      "text/plain": "             id  vas_id            buy_time  252  component_0  component_1  \\\n0       2905850     5.0 2019-01-06 21:00:00  0.0    -2.108865     2.008964   \n1       2905850     5.0 2019-01-06 21:00:00  0.0    -2.108865     2.008964   \n2         31619     2.0 2019-01-06 21:00:00  0.0     0.187221    -0.783811   \n3         31619     2.0 2019-01-06 21:00:00  0.0     0.187221    -0.783811   \n4       1427271     6.0 2019-01-06 21:00:00  0.0    -3.459512     2.924535   \n...         ...     ...                 ...  ...          ...          ...   \n142457  3145390     2.0 2019-01-20 21:00:00  0.0     3.061384    -2.295868   \n142458  1447357     6.0 2019-01-20 21:00:00  0.0     1.051441    -2.085514   \n142459  1447357     6.0 2019-01-20 21:00:00  0.0     1.051441    -2.085514   \n142460   988236     2.0 2019-01-20 21:00:00  0.0     4.329867    -2.173344   \n142461   988236     2.0 2019-01-20 21:00:00  0.0     4.329867    -2.173344   \n\n        component_2  component_3  component_4  component_5  ...  component_43  \\\n0         -0.680932    -0.645873    -0.252169     0.058302  ...     -0.570570   \n1         -0.680932    -0.645873    -0.252169     0.058302  ...     -0.570570   \n2          1.446463    -0.970002     0.073032    -0.281519  ...      0.629134   \n3          1.446463    -0.970002     0.073032    -0.281519  ...      0.629134   \n4         -1.996942     1.149771     0.273366    -1.354597  ...     -1.005940   \n...             ...          ...          ...          ...  ...           ...   \n142457     1.820947    -1.132860    -0.061771    -0.156534  ...      0.507166   \n142458     2.086823    -1.953215     0.114580    -0.682766  ...      1.320252   \n142459     2.086823    -1.953215     0.114580    -0.682766  ...      1.320252   \n142460     1.416670    -2.705303     0.492999    -1.291205  ...      0.459323   \n142461     1.416670    -2.705303     0.492999    -1.291205  ...      0.459323   \n\n        component_44  component_45  component_46  component_47  component_48  \\\n0          -0.481163     -0.818266      1.374948     -0.097509      0.395715   \n1          -0.481163     -0.818266      1.374948     -0.097509      0.395715   \n2           0.800355     -0.203236      0.084248      0.179651      0.163358   \n3           0.800355     -0.203236      0.084248      0.179651      0.163358   \n4           0.940569     -1.116288     -0.873351      0.800971      0.145993   \n...              ...           ...           ...           ...           ...   \n142457      0.538925     -0.000148     -0.478881      0.021350     -0.016971   \n142458      0.882394      0.499117     -1.136313     -0.386444     -0.010193   \n142459      0.882394      0.499117     -1.136313     -0.386444     -0.010193   \n142460     -0.219589      1.259391      0.248230     -0.307883      0.014105   \n142461     -0.219589      1.259391      0.248230     -0.307883      0.014105   \n\n        component_49  month  day  probability  \n0           0.105542      1    6     0.161841  \n1           0.105542      1    6     0.000851  \n2           0.593177      1    6     0.429020  \n3           0.593177      1    6     0.003328  \n4           1.473983      1    6     0.058465  \n...              ...    ...  ...          ...  \n142457      0.163567      1   20     0.003328  \n142458      0.508425      1   20     0.058465  \n142459      0.508425      1   20     0.041016  \n142460     -0.347168      1   20     0.429020  \n142461     -0.347168      1   20     0.003328  \n\n[142462 rows x 57 columns]",
      "text/html": "<div>\n<style scoped>\n    .dataframe tbody tr th:only-of-type {\n        vertical-align: middle;\n    }\n\n    .dataframe tbody tr th {\n        vertical-align: top;\n    }\n\n    .dataframe thead th {\n        text-align: right;\n    }\n</style>\n<table border=\"1\" class=\"dataframe\">\n  <thead>\n    <tr style=\"text-align: right;\">\n      <th></th>\n      <th>id</th>\n      <th>vas_id</th>\n      <th>buy_time</th>\n      <th>252</th>\n      <th>component_0</th>\n      <th>component_1</th>\n      <th>component_2</th>\n      <th>component_3</th>\n      <th>component_4</th>\n      <th>component_5</th>\n      <th>...</th>\n      <th>component_43</th>\n      <th>component_44</th>\n      <th>component_45</th>\n      <th>component_46</th>\n      <th>component_47</th>\n      <th>component_48</th>\n      <th>component_49</th>\n      <th>month</th>\n      <th>day</th>\n      <th>probability</th>\n    </tr>\n  </thead>\n  <tbody>\n    <tr>\n      <th>0</th>\n      <td>2905850</td>\n      <td>5.0</td>\n      <td>2019-01-06 21:00:00</td>\n      <td>0.0</td>\n      <td>-2.108865</td>\n      <td>2.008964</td>\n      <td>-0.680932</td>\n      <td>-0.645873</td>\n      <td>-0.252169</td>\n      <td>0.058302</td>\n      <td>...</td>\n      <td>-0.570570</td>\n      <td>-0.481163</td>\n      <td>-0.818266</td>\n      <td>1.374948</td>\n      <td>-0.097509</td>\n      <td>0.395715</td>\n      <td>0.105542</td>\n      <td>1</td>\n      <td>6</td>\n      <td>0.161841</td>\n    </tr>\n    <tr>\n      <th>1</th>\n      <td>2905850</td>\n      <td>5.0</td>\n      <td>2019-01-06 21:00:00</td>\n      <td>0.0</td>\n      <td>-2.108865</td>\n      <td>2.008964</td>\n      <td>-0.680932</td>\n      <td>-0.645873</td>\n      <td>-0.252169</td>\n      <td>0.058302</td>\n      <td>...</td>\n      <td>-0.570570</td>\n      <td>-0.481163</td>\n      <td>-0.818266</td>\n      <td>1.374948</td>\n      <td>-0.097509</td>\n      <td>0.395715</td>\n      <td>0.105542</td>\n      <td>1</td>\n      <td>6</td>\n      <td>0.000851</td>\n    </tr>\n    <tr>\n      <th>2</th>\n      <td>31619</td>\n      <td>2.0</td>\n      <td>2019-01-06 21:00:00</td>\n      <td>0.0</td>\n      <td>0.187221</td>\n      <td>-0.783811</td>\n      <td>1.446463</td>\n      <td>-0.970002</td>\n      <td>0.073032</td>\n      <td>-0.281519</td>\n      <td>...</td>\n      <td>0.629134</td>\n      <td>0.800355</td>\n      <td>-0.203236</td>\n      <td>0.084248</td>\n      <td>0.179651</td>\n      <td>0.163358</td>\n      <td>0.593177</td>\n      <td>1</td>\n      <td>6</td>\n      <td>0.429020</td>\n    </tr>\n    <tr>\n      <th>3</th>\n      <td>31619</td>\n      <td>2.0</td>\n      <td>2019-01-06 21:00:00</td>\n      <td>0.0</td>\n      <td>0.187221</td>\n      <td>-0.783811</td>\n      <td>1.446463</td>\n      <td>-0.970002</td>\n      <td>0.073032</td>\n      <td>-0.281519</td>\n      <td>...</td>\n      <td>0.629134</td>\n      <td>0.800355</td>\n      <td>-0.203236</td>\n      <td>0.084248</td>\n      <td>0.179651</td>\n      <td>0.163358</td>\n      <td>0.593177</td>\n      <td>1</td>\n      <td>6</td>\n      <td>0.003328</td>\n    </tr>\n    <tr>\n      <th>4</th>\n      <td>1427271</td>\n      <td>6.0</td>\n      <td>2019-01-06 21:00:00</td>\n      <td>0.0</td>\n      <td>-3.459512</td>\n      <td>2.924535</td>\n      <td>-1.996942</td>\n      <td>1.149771</td>\n      <td>0.273366</td>\n      <td>-1.354597</td>\n      <td>...</td>\n      <td>-1.005940</td>\n      <td>0.940569</td>\n      <td>-1.116288</td>\n      <td>-0.873351</td>\n      <td>0.800971</td>\n      <td>0.145993</td>\n      <td>1.473983</td>\n      <td>1</td>\n      <td>6</td>\n      <td>0.058465</td>\n    </tr>\n    <tr>\n      <th>...</th>\n      <td>...</td>\n      <td>...</td>\n      <td>...</td>\n      <td>...</td>\n      <td>...</td>\n      <td>...</td>\n      <td>...</td>\n      <td>...</td>\n      <td>...</td>\n      <td>...</td>\n      <td>...</td>\n      <td>...</td>\n      <td>...</td>\n      <td>...</td>\n      <td>...</td>\n      <td>...</td>\n      <td>...</td>\n      <td>...</td>\n      <td>...</td>\n      <td>...</td>\n      <td>...</td>\n    </tr>\n    <tr>\n      <th>142457</th>\n      <td>3145390</td>\n      <td>2.0</td>\n      <td>2019-01-20 21:00:00</td>\n      <td>0.0</td>\n      <td>3.061384</td>\n      <td>-2.295868</td>\n      <td>1.820947</td>\n      <td>-1.132860</td>\n      <td>-0.061771</td>\n      <td>-0.156534</td>\n      <td>...</td>\n      <td>0.507166</td>\n      <td>0.538925</td>\n      <td>-0.000148</td>\n      <td>-0.478881</td>\n      <td>0.021350</td>\n      <td>-0.016971</td>\n      <td>0.163567</td>\n      <td>1</td>\n      <td>20</td>\n      <td>0.003328</td>\n    </tr>\n    <tr>\n      <th>142458</th>\n      <td>1447357</td>\n      <td>6.0</td>\n      <td>2019-01-20 21:00:00</td>\n      <td>0.0</td>\n      <td>1.051441</td>\n      <td>-2.085514</td>\n      <td>2.086823</td>\n      <td>-1.953215</td>\n      <td>0.114580</td>\n      <td>-0.682766</td>\n      <td>...</td>\n      <td>1.320252</td>\n      <td>0.882394</td>\n      <td>0.499117</td>\n      <td>-1.136313</td>\n      <td>-0.386444</td>\n      <td>-0.010193</td>\n      <td>0.508425</td>\n      <td>1</td>\n      <td>20</td>\n      <td>0.058465</td>\n    </tr>\n    <tr>\n      <th>142459</th>\n      <td>1447357</td>\n      <td>6.0</td>\n      <td>2019-01-20 21:00:00</td>\n      <td>0.0</td>\n      <td>1.051441</td>\n      <td>-2.085514</td>\n      <td>2.086823</td>\n      <td>-1.953215</td>\n      <td>0.114580</td>\n      <td>-0.682766</td>\n      <td>...</td>\n      <td>1.320252</td>\n      <td>0.882394</td>\n      <td>0.499117</td>\n      <td>-1.136313</td>\n      <td>-0.386444</td>\n      <td>-0.010193</td>\n      <td>0.508425</td>\n      <td>1</td>\n      <td>20</td>\n      <td>0.041016</td>\n    </tr>\n    <tr>\n      <th>142460</th>\n      <td>988236</td>\n      <td>2.0</td>\n      <td>2019-01-20 21:00:00</td>\n      <td>0.0</td>\n      <td>4.329867</td>\n      <td>-2.173344</td>\n      <td>1.416670</td>\n      <td>-2.705303</td>\n      <td>0.492999</td>\n      <td>-1.291205</td>\n      <td>...</td>\n      <td>0.459323</td>\n      <td>-0.219589</td>\n      <td>1.259391</td>\n      <td>0.248230</td>\n      <td>-0.307883</td>\n      <td>0.014105</td>\n      <td>-0.347168</td>\n      <td>1</td>\n      <td>20</td>\n      <td>0.429020</td>\n    </tr>\n    <tr>\n      <th>142461</th>\n      <td>988236</td>\n      <td>2.0</td>\n      <td>2019-01-20 21:00:00</td>\n      <td>0.0</td>\n      <td>4.329867</td>\n      <td>-2.173344</td>\n      <td>1.416670</td>\n      <td>-2.705303</td>\n      <td>0.492999</td>\n      <td>-1.291205</td>\n      <td>...</td>\n      <td>0.459323</td>\n      <td>-0.219589</td>\n      <td>1.259391</td>\n      <td>0.248230</td>\n      <td>-0.307883</td>\n      <td>0.014105</td>\n      <td>-0.347168</td>\n      <td>1</td>\n      <td>20</td>\n      <td>0.003328</td>\n    </tr>\n  </tbody>\n</table>\n<p>142462 rows × 57 columns</p>\n</div>"
     },
     "execution_count": 52,
     "metadata": {},
     "output_type": "execute_result"
    }
   ],
   "source": [
    "test"
   ],
   "metadata": {
    "collapsed": false,
    "pycharm": {
     "name": "#%%\n"
    }
   }
  },
  {
   "cell_type": "code",
   "source": [
    "test[['id', 'vas_id', 'buy_time']].head(2)"
   ],
   "metadata": {
    "colab": {
     "base_uri": "https://localhost:8080/",
     "height": 171
    },
    "id": "RMNhJb2tJ_jb",
    "outputId": "14b1082f-a9b0-4259-c91a-a584c16d47ee"
   },
   "execution_count": 80,
   "outputs": [
    {
     "data": {
      "text/plain": "        id  vas_id            buy_time\n0  2905850     5.0 2019-01-06 21:00:00\n1  2905850     5.0 2019-01-06 21:00:00",
      "text/html": "<div>\n<style scoped>\n    .dataframe tbody tr th:only-of-type {\n        vertical-align: middle;\n    }\n\n    .dataframe tbody tr th {\n        vertical-align: top;\n    }\n\n    .dataframe thead th {\n        text-align: right;\n    }\n</style>\n<table border=\"1\" class=\"dataframe\">\n  <thead>\n    <tr style=\"text-align: right;\">\n      <th></th>\n      <th>id</th>\n      <th>vas_id</th>\n      <th>buy_time</th>\n    </tr>\n  </thead>\n  <tbody>\n    <tr>\n      <th>0</th>\n      <td>2905850</td>\n      <td>5.0</td>\n      <td>2019-01-06 21:00:00</td>\n    </tr>\n    <tr>\n      <th>1</th>\n      <td>2905850</td>\n      <td>5.0</td>\n      <td>2019-01-06 21:00:00</td>\n    </tr>\n  </tbody>\n</table>\n</div>"
     },
     "execution_count": 80,
     "metadata": {},
     "output_type": "execute_result"
    }
   ]
  },
  {
   "cell_type": "code",
   "source": [
    "test = test[['id', 'vas_id', 'buy_time']]\n",
    "test['target'] = 0\n",
    "test['target'] = y_test_pred_full\n",
    "test.to_csv('Sokolova_predictions.csv', index=False, encoding='utf-8', sep=',')\n",
    "test.head(10)"
   ],
   "metadata": {
    "id": "3HNL03UjImpg"
   },
   "execution_count": 54,
   "outputs": [
    {
     "name": "stderr",
     "output_type": "stream",
     "text": [
      "/var/folders/s5/6yjf0_gx61g9wqrz0b0sxrxc0000gn/T/ipykernel_45811/2290418110.py:2: SettingWithCopyWarning: \n",
      "A value is trying to be set on a copy of a slice from a DataFrame.\n",
      "Try using .loc[row_indexer,col_indexer] = value instead\n",
      "\n",
      "See the caveats in the documentation: https://pandas.pydata.org/pandas-docs/stable/user_guide/indexing.html#returning-a-view-versus-a-copy\n",
      "  test['target'] = 0\n",
      "/var/folders/s5/6yjf0_gx61g9wqrz0b0sxrxc0000gn/T/ipykernel_45811/2290418110.py:3: SettingWithCopyWarning: \n",
      "A value is trying to be set on a copy of a slice from a DataFrame.\n",
      "Try using .loc[row_indexer,col_indexer] = value instead\n",
      "\n",
      "See the caveats in the documentation: https://pandas.pydata.org/pandas-docs/stable/user_guide/indexing.html#returning-a-view-versus-a-copy\n",
      "  test['target'] = y_test_pred_full\n"
     ]
    },
    {
     "data": {
      "text/plain": "        id  vas_id            buy_time  target\n0  2905850     5.0 2019-01-06 21:00:00       0\n1  2905850     5.0 2019-01-06 21:00:00       0\n2    31619     2.0 2019-01-06 21:00:00       0\n3    31619     2.0 2019-01-06 21:00:00       0\n4  1427271     6.0 2019-01-06 21:00:00       0\n5  1427271     6.0 2019-01-06 21:00:00       0\n6  2162521     6.0 2019-01-06 21:00:00       0\n7  2162521     6.0 2019-01-06 21:00:00       0\n8  1529304     6.0 2019-01-06 21:00:00       0\n9  1529304     6.0 2019-01-06 21:00:00       0",
      "text/html": "<div>\n<style scoped>\n    .dataframe tbody tr th:only-of-type {\n        vertical-align: middle;\n    }\n\n    .dataframe tbody tr th {\n        vertical-align: top;\n    }\n\n    .dataframe thead th {\n        text-align: right;\n    }\n</style>\n<table border=\"1\" class=\"dataframe\">\n  <thead>\n    <tr style=\"text-align: right;\">\n      <th></th>\n      <th>id</th>\n      <th>vas_id</th>\n      <th>buy_time</th>\n      <th>target</th>\n    </tr>\n  </thead>\n  <tbody>\n    <tr>\n      <th>0</th>\n      <td>2905850</td>\n      <td>5.0</td>\n      <td>2019-01-06 21:00:00</td>\n      <td>0</td>\n    </tr>\n    <tr>\n      <th>1</th>\n      <td>2905850</td>\n      <td>5.0</td>\n      <td>2019-01-06 21:00:00</td>\n      <td>0</td>\n    </tr>\n    <tr>\n      <th>2</th>\n      <td>31619</td>\n      <td>2.0</td>\n      <td>2019-01-06 21:00:00</td>\n      <td>0</td>\n    </tr>\n    <tr>\n      <th>3</th>\n      <td>31619</td>\n      <td>2.0</td>\n      <td>2019-01-06 21:00:00</td>\n      <td>0</td>\n    </tr>\n    <tr>\n      <th>4</th>\n      <td>1427271</td>\n      <td>6.0</td>\n      <td>2019-01-06 21:00:00</td>\n      <td>0</td>\n    </tr>\n    <tr>\n      <th>5</th>\n      <td>1427271</td>\n      <td>6.0</td>\n      <td>2019-01-06 21:00:00</td>\n      <td>0</td>\n    </tr>\n    <tr>\n      <th>6</th>\n      <td>2162521</td>\n      <td>6.0</td>\n      <td>2019-01-06 21:00:00</td>\n      <td>0</td>\n    </tr>\n    <tr>\n      <th>7</th>\n      <td>2162521</td>\n      <td>6.0</td>\n      <td>2019-01-06 21:00:00</td>\n      <td>0</td>\n    </tr>\n    <tr>\n      <th>8</th>\n      <td>1529304</td>\n      <td>6.0</td>\n      <td>2019-01-06 21:00:00</td>\n      <td>0</td>\n    </tr>\n    <tr>\n      <th>9</th>\n      <td>1529304</td>\n      <td>6.0</td>\n      <td>2019-01-06 21:00:00</td>\n      <td>0</td>\n    </tr>\n  </tbody>\n</table>\n</div>"
     },
     "execution_count": 54,
     "metadata": {},
     "output_type": "execute_result"
    }
   ]
  },
  {
   "cell_type": "code",
   "execution_count": 55,
   "metadata": {
    "id": "3HtxEbz3O7vi"
   },
   "outputs": [],
   "source": [
    "# # базовая модель RandomForestClassifier\n",
    "# from sklearn.ensemble import RandomForestClassifier\n",
    "\n",
    "# rf = RandomForestClassifier(random_state=42, n_jobs=-1)\n",
    "# rf.fit(X_train, y_train)\n",
    "\n",
    "# y_train_pred = rf.predict(X_train)\n",
    "# y_test_pred = rf.predict(X_test)\n",
    "\n",
    "\n",
    "# get_classification_report(y_train, y_train_pred, y_test, y_test_pred)"
   ]
  },
  {
   "cell_type": "code",
   "source": [
    "# %%time\n",
    "# from lightgbm import LGBMClassifier\n",
    "\n",
    "# model_lgbm = LGBMClassifier(random_state=21, \n",
    "#                             n_estimators=100)\n",
    "# model_lgbm.fit(X_train, y_train)\n",
    "\n",
    "# y_train_pred = model_lgbm.predict(X_train)\n",
    "# y_test_pred = model_lgbm.predict(X_test)\n",
    "\n",
    "\n",
    "# get_classification_report(y_train, y_train_pred, y_test, y_test_pred)"
   ],
   "metadata": {
    "id": "PzU4bq13SLVh"
   },
   "execution_count": 56,
   "outputs": []
  },
  {
   "cell_type": "code",
   "execution_count": 57,
   "metadata": {
    "id": "znhFrRKq0cuJ"
   },
   "outputs": [],
   "source": [
    "# %%time\n",
    "# # базовая модель Catboost\n",
    "# catb = CatBoostClassifier(silent=True,\n",
    "#                           random_state=21)\n",
    "# catb.fit(X_train, y_train)\n",
    "\n",
    "# y_train_pred = catb.predict(X_train)\n",
    "# y_test_pred = catb.predict(X_test)\n",
    "\n",
    "# get_classification_report(y_train, y_train_pred, y_test, y_test_pred)"
   ]
  },
  {
   "cell_type": "code",
   "execution_count": 58,
   "metadata": {
    "id": "pOs1zT9-0cuJ"
   },
   "outputs": [],
   "source": [
    "# %%time\n",
    "\n",
    "# catb = CatBoostClassifier(silent=True,\n",
    "#                           learning_rate=0.01, \n",
    "# #                           class_weights=[1, disbalance],\n",
    "#                           max_depth=4,\n",
    "#                           iterations=50,                        \n",
    "#                           random_state=21)\n",
    "\n",
    "# catb.fit(X_train, y_train)\n",
    "\n",
    "# y_train_pred = catb.predict(X_train)\n",
    "# y_test_pred = catb.predict(X_test)\n",
    "\n",
    "# get_classification_report(y_train, y_train_pred, y_test, y_test_pred)"
   ]
  },
  {
   "cell_type": "code",
   "execution_count": 59,
   "metadata": {
    "id": "whnX5Tqo0cuJ"
   },
   "outputs": [],
   "source": [
    "# model_catb = CatBoostClassifier(silent=True, random_state=21,\n",
    "#                                      eval_metric='F1',\n",
    "#                                      early_stopping_rounds=30,\n",
    "#                                      use_best_model=True,\n",
    "#                                      custom_metric=['Precision', 'Recall']\n",
    "#                                     )\n",
    "\n",
    "# model_catb.fit(X_train, y_train, plot=True, eval_set=(X_test, y_test))"
   ]
  },
  {
   "cell_type": "code",
   "execution_count": 60,
   "metadata": {
    "id": "FSruf3JP0cuK"
   },
   "outputs": [],
   "source": [
    "# model_catb.best_score_"
   ]
  },
  {
   "cell_type": "code",
   "execution_count": 61,
   "metadata": {
    "id": "uhpvkqKV0cuK"
   },
   "outputs": [],
   "source": [
    "# evaluate_preds(model_catb, X_train, X_test, y_train, y_test)"
   ]
  },
  {
   "cell_type": "code",
   "execution_count": 62,
   "metadata": {
    "id": "7Y2suF3y0cuK"
   },
   "outputs": [],
   "source": [
    "# frozen_params = {\n",
    "#      'silent':True,\n",
    "#      'random_state':21,\n",
    "#      'eval_metric':'F1',\n",
    "#      'early_stopping_rounds':30\n",
    "# }\n",
    "\n",
    "# model_catb = CatBoostClassifier(**frozen_params)"
   ]
  },
  {
   "cell_type": "code",
   "execution_count": 63,
   "metadata": {
    "id": "HXMviWP00cuK"
   },
   "outputs": [],
   "source": [
    "# params = {'iterations':[50, 200, 500, 700, 1500],\n",
    "#           'learning_rate':[0.01, 0.005, 0.03],\n",
    "#           'max_depth':[3, 4, 5, 6, 7, 8]}"
   ]
  },
  {
   "cell_type": "code",
   "execution_count": 64,
   "metadata": {
    "collapsed": true,
    "id": "m5CaMKBh0cuK"
   },
   "outputs": [],
   "source": [
    "# %%time\n",
    "\n",
    "# cv = StratifiedKFold(n_splits=3, random_state=21, shuffle=True)\n",
    "\n",
    "# grid_search = model_catb.grid_search(params, X_train, y_train, cv=cv, stratified=True, plot=True, refit=True)"
   ]
  },
  {
   "cell_type": "code",
   "execution_count": 65,
   "metadata": {
    "collapsed": true,
    "id": "tdZ8MQ2y0cuL"
   },
   "outputs": [],
   "source": [
    "# grid_search"
   ]
  },
  {
   "cell_type": "code",
   "execution_count": 66,
   "metadata": {
    "id": "EZE3q3FZ0cuL"
   },
   "outputs": [],
   "source": [
    "# model_catb = CatBoostClassifier(**frozen_params, iterations=50, learning_rate=0.01, max_depth=8)\n",
    "\n",
    "# model_catb.fit(X_train, y_train)\n",
    "\n",
    "# y_train_pred = model_catb.predict(X_train)\n",
    "# y_test_pred = model_catb.predict(X_test)\n",
    "\n",
    "# get_classification_report(y_train, y_train_pred, y_test, y_test_pred)"
   ]
  },
  {
   "cell_type": "code",
   "execution_count": 67,
   "metadata": {
    "id": "ueWLO1j0BYY_"
   },
   "outputs": [],
   "source": [
    "# y_test_pred = model_catb.predict_proba(X_test)\n",
    "\n",
    "# show_proba_calibration_plots(y_test_pred[:,1], y_test)\n",
    "# # get_classification_report(y_train, y_train_pred, y_test, y_test_pred)"
   ]
  },
  {
   "cell_type": "code",
   "execution_count": 68,
   "metadata": {
    "id": "fbHxG8KQDsJ-"
   },
   "outputs": [],
   "source": [
    "# y_test_pred = model_catb.predict_proba(X_test)\n",
    "# y_test_pred = np.where(y_test_pred[:, 1] > 0.65, 1, 0)\n",
    "# get_classification_report(y_train, y_train_pred, y_test, y_test_pred)"
   ]
  },
  {
   "cell_type": "code",
   "execution_count": 69,
   "metadata": {
    "id": "M32KRRIp0cuL"
   },
   "outputs": [],
   "source": [
    "# pd.DataFrame(grid_search['cv_results']).sort_values('test-F1-mean', ascending=False).head()"
   ]
  },
  {
   "cell_type": "code",
   "execution_count": 70,
   "metadata": {
    "id": "-lc2WpH80cuM"
   },
   "outputs": [],
   "source": [
    "# уберу еще 12 месяц"
   ]
  },
  {
   "cell_type": "code",
   "execution_count": 71,
   "metadata": {
    "id": "dBRUTl_50cuM"
   },
   "outputs": [],
   "source": [
    "# train = train.loc[~(train.month.isin([11, 12]))]\n",
    "# train.month.unique()\n",
    "\n",
    "# df_train, df_valid = train_test_split(train, \n",
    "#                                       shuffle=True, \n",
    "#                                       test_size=0.3, \n",
    "#                                       stratify=train['target'], \n",
    "#                                       random_state=42)"
   ]
  },
  {
   "cell_type": "code",
   "execution_count": 72,
   "metadata": {
    "id": "jJYulB5C0cuM"
   },
   "outputs": [],
   "source": [
    "# df_train.target.value_counts(normalize=True)"
   ]
  },
  {
   "cell_type": "code",
   "execution_count": 73,
   "metadata": {
    "id": "1MBShfc70cuM"
   },
   "outputs": [],
   "source": [
    "# df_train_balanced = balance_df_by_target(df_train, 'target')\n",
    "    \n",
    "# df_train_balanced['target'].value_counts()\n",
    "\n",
    "# X_train = df_train_balanced.drop(columns=['id', 'target', 'time', 'buy_time', 'month', 'day'])\n",
    "# y_train = df_train_balanced.target\n",
    "\n",
    "# X_test = df_valid.drop(columns=['id', 'target', 'time', 'buy_time', 'month', 'day'])\n",
    "# y_test = df_valid.target"
   ]
  },
  {
   "cell_type": "code",
   "execution_count": 74,
   "metadata": {
    "id": "fXuG3JPt0cuN"
   },
   "outputs": [],
   "source": [
    "# frozen_params = {\n",
    "#      'silent':True,\n",
    "#      'random_state':21,\n",
    "#      'eval_metric':'F1',\n",
    "#      'early_stopping_rounds':30\n",
    "# }\n",
    "\n",
    "# model_catb = CatBoostClassifier(**frozen_params, iterations=100, learning_rate=0.01, max_depth=8)\n",
    "\n",
    "# model_catb.fit(X_train, y_train)\n",
    "\n",
    "# y_train_pred = model_catb.predict(X_train)\n",
    "# y_test_pred = model_catb.predict(X_test)\n",
    "\n",
    "# get_classification_report(y_train, y_train_pred, y_test, y_test_pred)"
   ]
  },
  {
   "cell_type": "markdown",
   "source": [
    "### Модель без target-encoding"
   ],
   "metadata": {
    "id": "LknZXu9VfNUB"
   }
  },
  {
   "cell_type": "code",
   "source": [
    "# columns = list(set(df_train.columns) - {'id', 'vas_id', 'buy_time', 'target', '252', 'month', 'day', 'probability'})\n",
    "\n",
    "# X_train = df_train_balanced[columns]\n",
    "# y_train = df_train_balanced.target\n",
    "\n",
    "# X_test = df_valid[columns]\n",
    "# y_test = df_valid.target\n",
    "\n",
    "# X_train.columns"
   ],
   "metadata": {
    "id": "Mm_DrpQ3fM7q"
   },
   "execution_count": null,
   "outputs": []
  },
  {
   "cell_type": "code",
   "source": [
    "# # базовая модель RandomForestClassifier\n",
    "# from sklearn.ensemble import RandomForestClassifier\n",
    "\n",
    "# rf = RandomForestClassifier(random_state=42, n_jobs=-1)\n",
    "# rf.fit(X_train, y_train)\n",
    "\n",
    "# y_train_pred = rf.predict(X_train)\n",
    "# y_test_pred = rf.predict(X_test)\n",
    "\n",
    "\n",
    "# get_classification_report(y_train, y_train_pred, y_test, y_test_pred)"
   ],
   "metadata": {
    "id": "PFNdW_BWgLKo"
   },
   "execution_count": null,
   "outputs": []
  },
  {
   "cell_type": "markdown",
   "metadata": {
    "id": "swHzbrEM0cuN"
   },
   "source": [
    "### Построим отдельную модель на каждую услугу"
   ]
  },
  {
   "cell_type": "code",
   "execution_count": null,
   "metadata": {
    "id": "Y_dtizHQ0cuO"
   },
   "outputs": [],
   "source": [
    "# [2., 1., 4., 9., 6., 5., 8., 7.]\n",
    "\n",
    "# услуга №1\n",
    "train_1 = train.loc[train.vas_id == 1]\n",
    "# услуга №2\n",
    "train_2 = train.loc[train.vas_id == 2]\n",
    "# услуга №4\n",
    "train_4 = train.loc[train.vas_id == 4]\n",
    "# услуга №5\n",
    "train_5 = train.loc[train.vas_id == 5]\n",
    "# услуга №6\n",
    "train_6 = train.loc[train.vas_id == 6]\n",
    "# услуга №7\n",
    "train_7 = train.loc[train.vas_id == 7]\n",
    "# услуга №8\n",
    "train_8 = train.loc[train.vas_id == 8]\n",
    "# услуга №9\n",
    "train_9 = train.loc[train.vas_id == 9]"
   ]
  },
  {
   "cell_type": "markdown",
   "source": [
    "### 1 услуга"
   ],
   "metadata": {
    "id": "lIFF4snbCPIY"
   }
  },
  {
   "cell_type": "code",
   "source": [
    "train_1.head(3)"
   ],
   "metadata": {
    "id": "KcEp5y5CCJ_P"
   },
   "execution_count": null,
   "outputs": []
  },
  {
   "cell_type": "code",
   "source": [
    "train_1.target.value_counts(normalize=True)"
   ],
   "metadata": {
    "id": "tyjDpE6AB2JQ"
   },
   "execution_count": null,
   "outputs": []
  },
  {
   "cell_type": "code",
   "source": [
    "train_1.shape"
   ],
   "metadata": {
    "id": "itI82hyeC5RB"
   },
   "execution_count": null,
   "outputs": []
  },
  {
   "cell_type": "code",
   "execution_count": null,
   "metadata": {
    "id": "rYDyozVk0cuO"
   },
   "outputs": [],
   "source": [
    "train_1.target.value_counts()"
   ]
  },
  {
   "cell_type": "code",
   "execution_count": null,
   "metadata": {
    "id": "YCcyN7Vf0cuO"
   },
   "outputs": [],
   "source": [
    "# df_train, df_valid = train_test_split(train_1,\n",
    "#                                       shuffle=True,\n",
    "#                                       test_size=0.3,\n",
    "#                                       stratify=train['target'],\n",
    "#                                       random_state=42)\n",
    "#\n",
    "# df_train_balanced = balance_df_by_target(df_train, 'target')\n",
    "#\n",
    "# df_train_balanced['target'].value_counts()\n"
   ]
  },
  {
   "cell_type": "code",
   "execution_count": null,
   "metadata": {
    "id": "6zZR0wu00cuO"
   },
   "outputs": [],
   "source": [
    "# X_train = df_train_balanced.drop(columns=['id', 'target', 'time', 'buy_time', 'month', 'day', 'vas_id'])\n",
    "# y_train = df_train_balanced.target\n",
    "#\n",
    "# X_test = df_valid.drop(columns=['id', 'target', 'time', 'buy_time', 'month', 'day', 'vas_id'])\n",
    "# y_test = df_valid.target"
   ]
  },
  {
   "cell_type": "code",
   "execution_count": null,
   "metadata": {
    "id": "0OOCNzVU0cuO"
   },
   "outputs": [],
   "source": [
    "# frozen_params = {\n",
    "#      'silent':True,\n",
    "#      'random_state':21,\n",
    "#      'eval_metric':'F1',\n",
    "#      'early_stopping_rounds':30\n",
    "# }\n",
    "#\n",
    "# model_catb = CatBoostClassifier(**frozen_params, iterations=50, learning_rate=0.01, max_depth=8)\n",
    "#\n",
    "# model_catb.fit(X_train, y_train)\n",
    "#\n",
    "# y_train_pred = model_catb.predict(X_train)\n",
    "# y_test_pred = model_catb.predict_proba(X_test)\n",
    "#\n",
    "# get_classification_report(y_train, y_train_pred, y_test, y_test_pred)"
   ]
  },
  {
   "cell_type": "code",
   "execution_count": null,
   "metadata": {
    "id": "mK66-pe10cuO"
   },
   "outputs": [],
   "source": [
    "# show_learning_curve_plot(model_catb, X_train, y_train)"
   ]
  },
  {
   "cell_type": "code",
   "execution_count": null,
   "metadata": {
    "id": "TtEhpObz0cuO"
   },
   "outputs": [],
   "source": [
    ""
   ]
  }
 ],
 "metadata": {
  "colab": {
   "collapsed_sections": [],
   "name": "megafon.ipynb",
   "provenance": []
  },
  "kernelspec": {
   "display_name": "Python 3",
   "language": "python",
   "name": "python3"
  },
  "language_info": {
   "codemirror_mode": {
    "name": "ipython",
    "version": 3
   },
   "file_extension": ".py",
   "mimetype": "text/x-python",
   "name": "python",
   "nbconvert_exporter": "python",
   "pygments_lexer": "ipython3",
   "version": "3.8.2"
  }
 },
 "nbformat": 4,
 "nbformat_minor": 0
}